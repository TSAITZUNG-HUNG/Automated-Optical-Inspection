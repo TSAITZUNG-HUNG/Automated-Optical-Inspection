{
  "nbformat": 4,
  "nbformat_minor": 0,
  "metadata": {
    "accelerator": "GPU",
    "colab": {
      "name": "0.963816.ipynb",
      "provenance": [],
      "collapsed_sections": [],
      "toc_visible": true
    },
    "kernelspec": {
      "display_name": "Python 3",
      "language": "python",
      "name": "python3"
    },
    "language_info": {
      "codemirror_mode": {
        "name": "ipython",
        "version": 3
      },
      "file_extension": ".py",
      "mimetype": "text/x-python",
      "name": "python",
      "nbconvert_exporter": "python",
      "pygments_lexer": "ipython3",
      "version": "3.6.8"
    },
    "widgets": {
      "application/vnd.jupyter.widget-state+json": {
        "1d7574d1caf14b02943f8ea219e6814f": {
          "model_module": "@jupyter-widgets/controls",
          "model_name": "HBoxModel",
          "state": {
            "_view_name": "HBoxView",
            "_dom_classes": [],
            "_model_name": "HBoxModel",
            "_view_module": "@jupyter-widgets/controls",
            "_model_module_version": "1.5.0",
            "_view_count": null,
            "_view_module_version": "1.5.0",
            "box_style": "",
            "layout": "IPY_MODEL_d4059989da514b8abc2c03019635157b",
            "_model_module": "@jupyter-widgets/controls",
            "children": [
              "IPY_MODEL_6d6b671af2254a5290766c15c138857f",
              "IPY_MODEL_8b0a004bb371450798eff3e94378976d"
            ]
          }
        },
        "d4059989da514b8abc2c03019635157b": {
          "model_module": "@jupyter-widgets/base",
          "model_name": "LayoutModel",
          "state": {
            "_view_name": "LayoutView",
            "grid_template_rows": null,
            "right": null,
            "justify_content": null,
            "_view_module": "@jupyter-widgets/base",
            "overflow": null,
            "_model_module_version": "1.2.0",
            "_view_count": null,
            "flex_flow": null,
            "width": null,
            "min_width": null,
            "border": null,
            "align_items": null,
            "bottom": null,
            "_model_module": "@jupyter-widgets/base",
            "top": null,
            "grid_column": null,
            "overflow_y": null,
            "overflow_x": null,
            "grid_auto_flow": null,
            "grid_area": null,
            "grid_template_columns": null,
            "flex": null,
            "_model_name": "LayoutModel",
            "justify_items": null,
            "grid_row": null,
            "max_height": null,
            "align_content": null,
            "visibility": null,
            "align_self": null,
            "height": null,
            "min_height": null,
            "padding": null,
            "grid_auto_rows": null,
            "grid_gap": null,
            "max_width": null,
            "order": null,
            "_view_module_version": "1.2.0",
            "grid_template_areas": null,
            "object_position": null,
            "object_fit": null,
            "grid_auto_columns": null,
            "margin": null,
            "display": null,
            "left": null
          }
        },
        "6d6b671af2254a5290766c15c138857f": {
          "model_module": "@jupyter-widgets/controls",
          "model_name": "FloatProgressModel",
          "state": {
            "_view_name": "ProgressView",
            "style": "IPY_MODEL_8327a634e7dc40d88e6b2cfbfc907e92",
            "_dom_classes": [],
            "description": "100%",
            "_model_name": "FloatProgressModel",
            "bar_style": "success",
            "max": 241530880,
            "_view_module": "@jupyter-widgets/controls",
            "_model_module_version": "1.5.0",
            "value": 241530880,
            "_view_count": null,
            "_view_module_version": "1.5.0",
            "orientation": "horizontal",
            "min": 0,
            "description_tooltip": null,
            "_model_module": "@jupyter-widgets/controls",
            "layout": "IPY_MODEL_f92ead987d984a72ada9d1f60768a209"
          }
        },
        "8b0a004bb371450798eff3e94378976d": {
          "model_module": "@jupyter-widgets/controls",
          "model_name": "HTMLModel",
          "state": {
            "_view_name": "HTMLView",
            "style": "IPY_MODEL_5cf5420ef723497e9a7eaac3062ae632",
            "_dom_classes": [],
            "description": "",
            "_model_name": "HTMLModel",
            "placeholder": "​",
            "_view_module": "@jupyter-widgets/controls",
            "_model_module_version": "1.5.0",
            "value": " 230M/230M [00:43&lt;00:00, 5.52MB/s]",
            "_view_count": null,
            "_view_module_version": "1.5.0",
            "description_tooltip": null,
            "_model_module": "@jupyter-widgets/controls",
            "layout": "IPY_MODEL_3de0291c4c6a49e4a450190a54097a5b"
          }
        },
        "8327a634e7dc40d88e6b2cfbfc907e92": {
          "model_module": "@jupyter-widgets/controls",
          "model_name": "ProgressStyleModel",
          "state": {
            "_view_name": "StyleView",
            "_model_name": "ProgressStyleModel",
            "description_width": "initial",
            "_view_module": "@jupyter-widgets/base",
            "_model_module_version": "1.5.0",
            "_view_count": null,
            "_view_module_version": "1.2.0",
            "bar_color": null,
            "_model_module": "@jupyter-widgets/controls"
          }
        },
        "f92ead987d984a72ada9d1f60768a209": {
          "model_module": "@jupyter-widgets/base",
          "model_name": "LayoutModel",
          "state": {
            "_view_name": "LayoutView",
            "grid_template_rows": null,
            "right": null,
            "justify_content": null,
            "_view_module": "@jupyter-widgets/base",
            "overflow": null,
            "_model_module_version": "1.2.0",
            "_view_count": null,
            "flex_flow": null,
            "width": null,
            "min_width": null,
            "border": null,
            "align_items": null,
            "bottom": null,
            "_model_module": "@jupyter-widgets/base",
            "top": null,
            "grid_column": null,
            "overflow_y": null,
            "overflow_x": null,
            "grid_auto_flow": null,
            "grid_area": null,
            "grid_template_columns": null,
            "flex": null,
            "_model_name": "LayoutModel",
            "justify_items": null,
            "grid_row": null,
            "max_height": null,
            "align_content": null,
            "visibility": null,
            "align_self": null,
            "height": null,
            "min_height": null,
            "padding": null,
            "grid_auto_rows": null,
            "grid_gap": null,
            "max_width": null,
            "order": null,
            "_view_module_version": "1.2.0",
            "grid_template_areas": null,
            "object_position": null,
            "object_fit": null,
            "grid_auto_columns": null,
            "margin": null,
            "display": null,
            "left": null
          }
        },
        "5cf5420ef723497e9a7eaac3062ae632": {
          "model_module": "@jupyter-widgets/controls",
          "model_name": "DescriptionStyleModel",
          "state": {
            "_view_name": "StyleView",
            "_model_name": "DescriptionStyleModel",
            "description_width": "",
            "_view_module": "@jupyter-widgets/base",
            "_model_module_version": "1.5.0",
            "_view_count": null,
            "_view_module_version": "1.2.0",
            "_model_module": "@jupyter-widgets/controls"
          }
        },
        "3de0291c4c6a49e4a450190a54097a5b": {
          "model_module": "@jupyter-widgets/base",
          "model_name": "LayoutModel",
          "state": {
            "_view_name": "LayoutView",
            "grid_template_rows": null,
            "right": null,
            "justify_content": null,
            "_view_module": "@jupyter-widgets/base",
            "overflow": null,
            "_model_module_version": "1.2.0",
            "_view_count": null,
            "flex_flow": null,
            "width": null,
            "min_width": null,
            "border": null,
            "align_items": null,
            "bottom": null,
            "_model_module": "@jupyter-widgets/base",
            "top": null,
            "grid_column": null,
            "overflow_y": null,
            "overflow_x": null,
            "grid_auto_flow": null,
            "grid_area": null,
            "grid_template_columns": null,
            "flex": null,
            "_model_name": "LayoutModel",
            "justify_items": null,
            "grid_row": null,
            "max_height": null,
            "align_content": null,
            "visibility": null,
            "align_self": null,
            "height": null,
            "min_height": null,
            "padding": null,
            "grid_auto_rows": null,
            "grid_gap": null,
            "max_width": null,
            "order": null,
            "_view_module_version": "1.2.0",
            "grid_template_areas": null,
            "object_position": null,
            "object_fit": null,
            "grid_auto_columns": null,
            "margin": null,
            "display": null,
            "left": null
          }
        }
      }
    }
  },
  "cells": [
    {
      "cell_type": "markdown",
      "metadata": {
        "id": "aRDUGd13kUFu"
      },
      "source": [
        "# 深度學習期末報告-自動光學檢查 AOI\n",
        "### 蔡宗宏 405031543 \n",
        "### 授課老師 邵皓強\n",
        "\n",
        "## 安裝環境與環境建置\n",
        "\n",
        "- Google CoLab\n",
        "- Python3 GPU\n",
        "- Pytroch\n",
        "\n",
        "## 資料準備\n",
        "\n",
        "### 連動 google drive\n",
        "\n"
      ]
    },
    {
      "cell_type": "code",
      "metadata": {
        "id": "oOSQpyWVn31K",
        "outputId": "839b1bc9-1e43-4104-a468-bdbf4a7d8e97",
        "colab": {
          "base_uri": "https://localhost:8080/",
          "height": 34
        }
      },
      "source": [
        "from google.colab import drive\n",
        "drive.mount('/content/drive')"
      ],
      "execution_count": 1,
      "outputs": [
        {
          "output_type": "stream",
          "text": [
            "Mounted at /content/drive\n"
          ],
          "name": "stdout"
        }
      ]
    },
    {
      "cell_type": "code",
      "metadata": {
        "id": "c32kGOWExHr4"
      },
      "source": [
        "import numpy as np\n",
        "import matplotlib.pyplot as plt\n",
        "import pandas as pd\n",
        "from PIL import Image\n",
        "\n",
        "%matplotlib inline"
      ],
      "execution_count": 2,
      "outputs": []
    },
    {
      "cell_type": "code",
      "metadata": {
        "id": "Rmxja9Tml8R3",
        "outputId": "d5b8af23-d71a-4183-9610-6cecd1694f5d",
        "colab": {
          "base_uri": "https://localhost:8080/",
          "height": 52
        }
      },
      "source": [
        "from __future__ import print_function\n",
        "from __future__ import division\n",
        "import torch\n",
        "import torch.nn as nn\n",
        "import torch.optim as optim\n",
        "import torchvision\n",
        "from torchvision import models, transforms\n",
        "from torch.utils.data import Dataset, DataLoader\n",
        "import time\n",
        "import os\n",
        "import copy\n",
        "print(\"PyTorch Version: \",torch.__version__)\n",
        "print(\"Torchvision Version: \",torchvision.__version__)"
      ],
      "execution_count": 3,
      "outputs": [
        {
          "output_type": "stream",
          "text": [
            "PyTorch Version:  1.6.0+cu101\n",
            "Torchvision Version:  0.7.0+cu101\n"
          ],
          "name": "stdout"
        }
      ]
    },
    {
      "cell_type": "markdown",
      "metadata": {
        "id": "RNFkCaKzgNya"
      },
      "source": [
        "### Unzip aoi.zip to cloud environment"
      ]
    },
    {
      "cell_type": "code",
      "metadata": {
        "id": "lFhQ3pJal-Zy"
      },
      "source": [
        "cloud_path = '/content/drive/My Drive/ML_assets'\n",
        "zip_path = '/content/drive/My Drive/ML_assets/aoi.zip'\n",
        "to_path = '/_temp'"
      ],
      "execution_count": 4,
      "outputs": []
    },
    {
      "cell_type": "code",
      "metadata": {
        "id": "xT1FcPmNv6XW"
      },
      "source": [
        "from zipfile import ZipFile\n",
        "\n",
        "def unzip(paths, to_path):\n",
        "  \"\"\"paths: list, to_path\"\"\"\n",
        "  for path in paths:\n",
        "    if path.endswith('.zip'):\n",
        "      with ZipFile(path, 'r') as zipObj:\n",
        "        zipObj.extractall(to_path)\n",
        "        childs = ['{}/{}'.format(to_path, file_name) for file_name in zipObj.namelist()]\n",
        "        unzip(childs, to_path)\n",
        "\n",
        "unzip([zip_path], to_path)"
      ],
      "execution_count": 5,
      "outputs": []
    },
    {
      "cell_type": "markdown",
      "metadata": {
        "id": "YGetRKf3g-UA"
      },
      "source": [
        "### 訓練資料"
      ]
    },
    {
      "cell_type": "code",
      "metadata": {
        "id": "adscDLZY0fb6",
        "outputId": "e89fd60c-0507-46c1-8918-b575f7ceb054",
        "colab": {
          "base_uri": "https://localhost:8080/",
          "height": 195
        }
      },
      "source": [
        "df = pd.read_csv('{}/{}'.format(to_path, 'train.csv'))\n",
        "df.head()"
      ],
      "execution_count": 6,
      "outputs": [
        {
          "output_type": "execute_result",
          "data": {
            "text/html": [
              "<div>\n",
              "<style scoped>\n",
              "    .dataframe tbody tr th:only-of-type {\n",
              "        vertical-align: middle;\n",
              "    }\n",
              "\n",
              "    .dataframe tbody tr th {\n",
              "        vertical-align: top;\n",
              "    }\n",
              "\n",
              "    .dataframe thead th {\n",
              "        text-align: right;\n",
              "    }\n",
              "</style>\n",
              "<table border=\"1\" class=\"dataframe\">\n",
              "  <thead>\n",
              "    <tr style=\"text-align: right;\">\n",
              "      <th></th>\n",
              "      <th>ID</th>\n",
              "      <th>Label</th>\n",
              "    </tr>\n",
              "  </thead>\n",
              "  <tbody>\n",
              "    <tr>\n",
              "      <th>0</th>\n",
              "      <td>train_00000.png</td>\n",
              "      <td>0</td>\n",
              "    </tr>\n",
              "    <tr>\n",
              "      <th>1</th>\n",
              "      <td>train_00001.png</td>\n",
              "      <td>1</td>\n",
              "    </tr>\n",
              "    <tr>\n",
              "      <th>2</th>\n",
              "      <td>train_00002.png</td>\n",
              "      <td>1</td>\n",
              "    </tr>\n",
              "    <tr>\n",
              "      <th>3</th>\n",
              "      <td>train_00003.png</td>\n",
              "      <td>5</td>\n",
              "    </tr>\n",
              "    <tr>\n",
              "      <th>4</th>\n",
              "      <td>train_00004.png</td>\n",
              "      <td>5</td>\n",
              "    </tr>\n",
              "  </tbody>\n",
              "</table>\n",
              "</div>"
            ],
            "text/plain": [
              "                ID  Label\n",
              "0  train_00000.png      0\n",
              "1  train_00001.png      1\n",
              "2  train_00002.png      1\n",
              "3  train_00003.png      5\n",
              "4  train_00004.png      5"
            ]
          },
          "metadata": {
            "tags": []
          },
          "execution_count": 6
        }
      ]
    },
    {
      "cell_type": "markdown",
      "metadata": {
        "id": "iKLnwV1JhF1Q"
      },
      "source": [
        "### 客製化 AOI 資料集\n",
        "\n"
      ]
    },
    {
      "cell_type": "code",
      "metadata": {
        "id": "5AFD-f7imN2W"
      },
      "source": [
        "class aoiDataset(Dataset):\n",
        "    def __init__(self, root, X, y, transform):\n",
        "        ##############################################\n",
        "        ### Initialize paths, transforms, and so on\n",
        "        ### data list -> DataFrame ID, Label\n",
        "        ##############################################\n",
        "        self.transform = transform\n",
        "        # \n",
        "        # load image path and annotations\n",
        "        self.imgs = X\n",
        "        self.imgs = [ '{}/{}'.format(root, img) for img in self.imgs ]\n",
        "        self.lbls = y\n",
        "        assert len(self.imgs) == len(self.lbls), 'mismatched length!'\n",
        "        print ('Total data split: {}'.format(len(self.imgs)))\n",
        "        \n",
        "    def __getitem__(self, index):\n",
        "        ##############################################\n",
        "        # 1. Read from file (using numpy.fromfile, PIL.Image.open)\n",
        "        # 2. Preprocess the data (torchvision.Transform).\n",
        "        # 3. Return the data (e.g. image and label)\n",
        "        ##############################################\n",
        "        imgpath = self.imgs[index]\n",
        "        img = Image.open(imgpath).convert('RGB')\n",
        "        lbl = int(self.lbls[index])\n",
        "        if self.transform is not None:\n",
        "            img = self.transform(img)\n",
        "        return img, lbl\n",
        "        \n",
        "    def __len__(self):\n",
        "        ##############################################\n",
        "        ### Indicate the total size of the dataset\n",
        "        ##############################################\n",
        "        return len(self.imgs)\n",
        "\n"
      ],
      "execution_count": 7,
      "outputs": []
    },
    {
      "cell_type": "markdown",
      "metadata": {
        "id": "Lob2_z-QhaO7"
      },
      "source": [
        "### 訓練模型主程式\n",
        "\n",
        ">參考來源： https://pytorch.org/tutorials/beginner/finetuning_torchvision_models_tutorial.html"
      ]
    },
    {
      "cell_type": "code",
      "metadata": {
        "id": "ziuEgie3RESW"
      },
      "source": [
        "def initialize_model(model_name, num_classes, feature_extract, use_pretrained=True):\n",
        "    #模型參考 https://keras.io/api/applications/\n",
        "    # Initialize these variables which will be set in this if statement. Each of these\n",
        "    #   variables is model specific.\n",
        "    model_ft = None\n",
        "    input_size = 0\n",
        "\n",
        "    if model_name == \"resnet\":\n",
        "        \"\"\" Resnet50\n",
        "        \"\"\"\n",
        "        model_ft = models.resnet50(pretrained=use_pretrained)\n",
        "        set_parameter_requires_grad(model_ft, feature_extract)\n",
        "        num_ftrs = model_ft.fc.in_features\n",
        "        model_ft.fc = nn.Linear(num_ftrs, num_classes)\n",
        "        input_size = 224\n",
        "\n",
        "    elif model_name == \"resnet152\":#經驗證此模型正確率最高\n",
        "        \"\"\" Resnet152\n",
        "        \"\"\"\n",
        "        model_ft = models.resnet152(pretrained=use_pretrained)\n",
        "        set_parameter_requires_grad(model_ft, feature_extract)\n",
        "        num_ftrs = model_ft.fc.in_features\n",
        "        model_ft.fc = nn.Linear(num_ftrs, num_classes)\n",
        "        input_size = 224\n",
        "\n",
        "    elif model_name == \"alexnet\":\n",
        "        \"\"\" Alexnet\n",
        "        \"\"\"\n",
        "        model_ft = models.alexnet(pretrained=use_pretrained)\n",
        "        set_parameter_requires_grad(model_ft, feature_extract)\n",
        "        num_ftrs = model_ft.classifier[6].in_features\n",
        "        model_ft.classifier[6] = nn.Linear(num_ftrs,num_classes)\n",
        "        input_size = 224\n",
        "\n",
        "    elif model_name == \"vgg\":\n",
        "        \"\"\" VGG11_bn\n",
        "        \"\"\"\n",
        "        model_ft = models.vgg11_bn(pretrained=use_pretrained)\n",
        "        set_parameter_requires_grad(model_ft, feature_extract)\n",
        "        num_ftrs = model_ft.classifier[6].in_features\n",
        "        model_ft.classifier[6] = nn.Linear(num_ftrs,num_classes)\n",
        "        input_size = 224\n",
        "\n",
        "    elif model_name == \"squeezenet\":\n",
        "        \"\"\" Squeezenet\n",
        "        \"\"\"\n",
        "        model_ft = models.squeezenet1_0(pretrained=use_pretrained)\n",
        "        set_parameter_requires_grad(model_ft, feature_extract)\n",
        "        model_ft.classifier[1] = nn.Conv2d(512, num_classes, kernel_size=(1,1), stride=(1,1))\n",
        "        model_ft.num_classes = num_classes\n",
        "        input_size = 224\n",
        "\n",
        "    elif model_name == \"densenet\":\n",
        "        \"\"\" Densenet\n",
        "        \"\"\"\n",
        "        model_ft = models.densenet121(pretrained=use_pretrained)\n",
        "        set_parameter_requires_grad(model_ft, feature_extract)\n",
        "        num_ftrs = model_ft.classifier.in_features\n",
        "        model_ft.classifier = nn.Linear(num_ftrs, num_classes)\n",
        "        input_size = 224\n",
        "\n",
        "    elif model_name == \"inception\":\n",
        "        \"\"\" Inception v3\n",
        "        Be careful, expects (299,299) sized images and has auxiliary output\n",
        "        \"\"\"\n",
        "        model_ft = models.inception_v3(pretrained=use_pretrained)\n",
        "        set_parameter_requires_grad(model_ft, feature_extract)\n",
        "        # Handle the auxilary net\n",
        "        num_ftrs = model_ft.AuxLogits.fc.in_features\n",
        "        model_ft.AuxLogits.fc = nn.Linear(num_ftrs, num_classes)\n",
        "        # Handle the primary net\n",
        "        num_ftrs = model_ft.fc.in_features\n",
        "        model_ft.fc = nn.Linear(num_ftrs,num_classes)\n",
        "        input_size = 299\n",
        "\n",
        "    else:\n",
        "        print(\"Invalid model name, exiting...\")\n",
        "        exit()\n",
        "\n",
        "    return model_ft, input_size"
      ],
      "execution_count": 8,
      "outputs": []
    },
    {
      "cell_type": "code",
      "metadata": {
        "id": "yWVkMfTkSDiq"
      },
      "source": [
        "def set_parameter_requires_grad(model, feature_extracting):\n",
        "    if feature_extracting:\n",
        "        for param in model.parameters():\n",
        "            param.requires_grad = False"
      ],
      "execution_count": 11,
      "outputs": []
    },
    {
      "cell_type": "code",
      "metadata": {
        "id": "FTn6ntDDhVu3"
      },
      "source": [
        "# \n",
        "def train_model(model, dataloaders, criterion, optimizer, num_epochs=75, is_inception=False):#原num_epochs=25\n",
        "    since = time.time()\n",
        "\n",
        "    history = {\n",
        "        'loss_val': [],\n",
        "        'loss_train': [],\n",
        "        'acc_val': [],\n",
        "        'acc_train': [],\n",
        "    }\n",
        "\n",
        "    best_model_wts = copy.deepcopy(model.state_dict())\n",
        "    best_acc = 0.0\n",
        "\n",
        "    for epoch in range(num_epochs):\n",
        "        print('Epoch {}/{}'.format(epoch, num_epochs - 1))\n",
        "        print('-' * 10)\n",
        "\n",
        "        # Each epoch has a training and validation phase\n",
        "        for phase in ['train', 'val']:\n",
        "            if phase == 'train':\n",
        "                model.train()  # Set model to training mode\n",
        "            else:\n",
        "                model.eval()   # Set model to evaluate mode\n",
        "\n",
        "            running_loss = 0.0\n",
        "            running_corrects = 0\n",
        "\n",
        "            # Iterate over data.\n",
        "            for inputs, labels in dataloaders[phase]:\n",
        "                inputs = inputs.to(device)\n",
        "                labels = labels.to(device)\n",
        "\n",
        "                # zero the parameter gradients\n",
        "                optimizer.zero_grad()\n",
        "\n",
        "                # forward\n",
        "                # track history if only in train\n",
        "                with torch.set_grad_enabled(phase == 'train'):\n",
        "                    # Get model outputs and calculate loss\n",
        "                    # Special case for inception because in training it has an auxiliary output. In train\n",
        "                    #   mode we calculate the loss by summing the final output and the auxiliary output\n",
        "                    #   but in testing we only consider the final output.\n",
        "                    if is_inception and phase == 'train':\n",
        "                        # From https://discuss.pytorch.org/t/how-to-optimize-inception-model-with-auxiliary-classifiers/7958\n",
        "                        outputs, aux_outputs = model(inputs)\n",
        "                        loss1 = criterion(outputs, labels)\n",
        "                        loss2 = criterion(aux_outputs, labels)\n",
        "                        loss = loss1 + 0.4*loss2\n",
        "                    else:\n",
        "                        outputs = model(inputs)\n",
        "                        loss = criterion(outputs, labels)\n",
        "\n",
        "                    _, preds = torch.max(outputs, 1)\n",
        "\n",
        "                    # backward + optimize only if in training phase\n",
        "                    if phase == 'train':\n",
        "                        loss.backward()\n",
        "                        optimizer.step()\n",
        "\n",
        "                # statistics\n",
        "                running_loss += loss.item() * inputs.size(0)\n",
        "                running_corrects += torch.sum(preds == labels.data)\n",
        "\n",
        "            epoch_loss = running_loss / len(dataloaders[phase].dataset)\n",
        "            epoch_acc = running_corrects.double() / len(dataloaders[phase].dataset)\n",
        "\n",
        "            print('{} Loss: {:.4f} Acc: {:.4f}'.format(phase, epoch_loss, epoch_acc))\n",
        "\n",
        "            # deep copy the model\n",
        "            if phase == 'val' and epoch_acc > best_acc:\n",
        "                best_acc = epoch_acc\n",
        "                best_model_wts = copy.deepcopy(model.state_dict())\n",
        "            if phase == 'val':\n",
        "                history['acc_val'].append(epoch_acc)\n",
        "                history['loss_val'].append(epoch_loss)\n",
        "            else:\n",
        "                history['acc_train'].append(epoch_acc)\n",
        "                history['loss_train'].append(epoch_loss)\n",
        "\n",
        "        print()\n",
        "\n",
        "    time_elapsed = time.time() - since\n",
        "    print('Training complete in {:.0f}m {:.0f}s'.format(time_elapsed // 60, time_elapsed % 60))\n",
        "    print('Best val Acc: {:4f}'.format(best_acc))\n",
        "\n",
        "    # load best model weights\n",
        "    model.load_state_dict(best_model_wts)\n",
        "    return model, history"
      ],
      "execution_count": 12,
      "outputs": []
    },
    {
      "cell_type": "markdown",
      "metadata": {
        "id": "JF5knnN2TV0L"
      },
      "source": [
        "Model setting"
      ]
    },
    {
      "cell_type": "code",
      "metadata": {
        "id": "lVXYT3AnRl65"
      },
      "source": [
        "# Top level data directory. Here we assume the format of the directory conforms\n",
        "# Models to choose from [resnet50, resnet152, alexnet, vgg, squeezenet, densenet, inception]\n",
        "model_name = \"resnet152\"#這裡可以用不同的方法(上面的if else都有)，下面所有的數字都能˙改改看\n",
        "\n",
        "# Number of classes in the dataset\n",
        "num_classes = 6\n",
        "#https://keras.io/api/utils/python_utils/\n",
        "\n",
        "# Batch size for training (change depending on how much memory you have)\n",
        "batch_size = 128 #原:16\n",
        "\n",
        "# Number of epochs to train for\n",
        "num_epochs = 30 #原:20  #30:0.953947 #50: overfitting 故改變其他參數\n",
        "\n",
        "# Flag for feature extracting. When False, we finetune the whole model,\n",
        "#   when True we only update the reshaped layer params\n",
        "feature_extract = True"
      ],
      "execution_count": 13,
      "outputs": []
    },
    {
      "cell_type": "code",
      "metadata": {
        "id": "TQx5KJV8Rxfi",
        "outputId": "567950a2-bc83-4f40-a4d3-0ea29e1831c0",
        "colab": {
          "base_uri": "https://localhost:8080/",
          "height": 84,
          "referenced_widgets": [
            "1d7574d1caf14b02943f8ea219e6814f",
            "d4059989da514b8abc2c03019635157b",
            "6d6b671af2254a5290766c15c138857f",
            "8b0a004bb371450798eff3e94378976d",
            "8327a634e7dc40d88e6b2cfbfc907e92",
            "f92ead987d984a72ada9d1f60768a209",
            "5cf5420ef723497e9a7eaac3062ae632",
            "3de0291c4c6a49e4a450190a54097a5b"
          ]
        }
      },
      "source": [
        "model, input_size = initialize_model(model_name, num_classes, feature_extract, use_pretrained=True)"
      ],
      "execution_count": 14,
      "outputs": [
        {
          "output_type": "stream",
          "text": [
            "Downloading: \"https://download.pytorch.org/models/resnet152-b121ed2d.pth\" to /root/.cache/torch/hub/checkpoints/resnet152-b121ed2d.pth\n"
          ],
          "name": "stderr"
        },
        {
          "output_type": "display_data",
          "data": {
            "application/vnd.jupyter.widget-view+json": {
              "model_id": "1d7574d1caf14b02943f8ea219e6814f",
              "version_minor": 0,
              "version_major": 2
            },
            "text/plain": [
              "HBox(children=(FloatProgress(value=0.0, max=241530880.0), HTML(value='')))"
            ]
          },
          "metadata": {
            "tags": []
          }
        },
        {
          "output_type": "stream",
          "text": [
            "\n"
          ],
          "name": "stdout"
        }
      ]
    },
    {
      "cell_type": "markdown",
      "metadata": {
        "id": "nEu-zdnbmjJi"
      },
      "source": [
        "### 影像預處理"
      ]
    },
    {
      "cell_type": "code",
      "metadata": {
        "id": "J2Xk5-nL8Uhb"
      },
      "source": [
        "data_transforms = {\n",
        "    'train': transforms.Compose([\n",
        "                transforms.RandomResizedCrop(input_size),\n",
        "                transforms.RandomHorizontalFlip(),\n",
        "                transforms.ToTensor(),\n",
        "                transforms.Normalize(mean=[0.485, 0.456, 0.406],\n",
        "                                std=[0.229, 0.224, 0.225]),               \n",
        "                ]),\n",
        "    'val': transforms.Compose([\n",
        "                    transforms.Resize((input_size, input_size)),\n",
        "                    transforms.CenterCrop(input_size),\n",
        "                    transforms.ToTensor(),\n",
        "                    transforms.Normalize(mean=[0.485, 0.456, 0.406],\n",
        "                                   std=[0.229, 0.224, 0.225]),\n",
        "                    ])\n",
        "}"
      ],
      "execution_count": 15,
      "outputs": []
    },
    {
      "cell_type": "markdown",
      "metadata": {
        "id": "3KBpFicAiEBI"
      },
      "source": [
        "### Training, Validation and Testing sets."
      ]
    },
    {
      "cell_type": "code",
      "metadata": {
        "id": "SWMQ8jrkma-2"
      },
      "source": [
        "from sklearn.model_selection import train_test_split\n",
        "\n",
        "X = np.array(df['ID'])\n",
        "y = np.array(df['Label'])\n",
        "\n",
        "X_train, X_test, y_train, y_test = train_test_split(X, y, test_size=0.12, random_state=100)"
      ],
      "execution_count": 16,
      "outputs": []
    },
    {
      "cell_type": "code",
      "metadata": {
        "id": "NIUYTdcemw70",
        "outputId": "91d971d8-2879-4b3e-cb3d-ad105f5fece5",
        "colab": {
          "base_uri": "https://localhost:8080/",
          "height": 52
        }
      },
      "source": [
        "# create train/val datasets\n",
        "root = '{}/{}'.format(to_path, 'train_images')\n",
        "\n",
        "\n",
        "trainset = aoiDataset(root=root, \n",
        "                      X=X_train, y=y_train,\n",
        "                      transform=data_transforms['train'])\n",
        "valset = aoiDataset(root=root, \n",
        "                      X=X_test, y=y_test,\n",
        "                      transform=data_transforms['val'])\n",
        "\n",
        "# create train/val loaders\n",
        "train_loader = DataLoader(dataset=trainset,\n",
        "                          batch_size=128, #原:16\n",
        "                          shuffle=True,\n",
        "                          num_workers=64) #原:4\n",
        "\n",
        "val_loader = DataLoader(dataset=valset,\n",
        "                        batch_size=128,  #原16\n",
        "                        shuffle=False,\n",
        "                        num_workers=64)  #原:4"
      ],
      "execution_count": 17,
      "outputs": [
        {
          "output_type": "stream",
          "text": [
            "Total data split: 2224\n",
            "Total data split: 304\n"
          ],
          "name": "stdout"
        }
      ]
    },
    {
      "cell_type": "code",
      "metadata": {
        "id": "5Hadx_Wem2LW",
        "outputId": "c9aa1717-056f-4dbd-d193-3f7695ff7020",
        "colab": {
          "base_uri": "https://localhost:8080/",
          "height": 171
        }
      },
      "source": [
        "def imshow(img):\n",
        "    img = img / 2 + 0.5     # unnormalize\n",
        "    npimg = img.numpy()\n",
        "    plt.imshow(np.transpose(npimg, (1, 2, 0)))\n",
        "\n",
        "dataiter = iter(train_loader)\n",
        "images, labels = dataiter.next()\n",
        "\n",
        "## 檢視資料\n",
        "# show images\n",
        "imshow(torchvision.utils.make_grid(images[:4]))\n",
        "# # print labels\n",
        "print(' '.join('%5d' % labels[j] for j in range(4)))"
      ],
      "execution_count": 18,
      "outputs": [
        {
          "output_type": "stream",
          "text": [
            "Clipping input data to the valid range for imshow with RGB data ([0..1] for floats or [0..255] for integers).\n"
          ],
          "name": "stderr"
        },
        {
          "output_type": "stream",
          "text": [
            "    5     5     1     5\n"
          ],
          "name": "stdout"
        },
        {
          "output_type": "display_data",
          "data": {
            "image/png": "[encoded data removed]",
            "text/plain": [
              "<Figure size 432x288 with 1 Axes>"
            ]
          },
          "metadata": {
            "tags": [],
            "needs_background": "light"
          }
        }
      ]
    },
    {
      "cell_type": "markdown",
      "metadata": {
        "id": "Y0WrEW9DtFWb"
      },
      "source": [
        "https://towardsdatascience.com/how-to-train-an-image-classifier-in-pytorch-and-use-it-to-perform-basic-inference-on-single-images-99465a1e9bf5\n",
        "\n",
        "have to freeze the pre-trained layers, so we don’t backprop through them during training."
      ]
    },
    {
      "cell_type": "code",
      "metadata": {
        "id": "igNXO2SUS-bG",
        "outputId": "d0540154-88ab-4568-d082-6c21cfbe3747",
        "colab": {
          "base_uri": "https://localhost:8080/",
          "height": 70
        }
      },
      "source": [
        "device = torch.device(\"cuda:0\" if torch.cuda.is_available() else \"cpu\")\n",
        "# Send the model to GPU\n",
        "model = model.to(device)\n",
        "\n",
        "# Gather the parameters to be optimized/updated in this run. If we are\n",
        "#  finetuning we will be updating all parameters. However, if we are\n",
        "#  doing feature extract method, we will only update the parameters\n",
        "#  that we have just initialized, i.e. the parameters with requires_grad\n",
        "#  is True.\n",
        "\n",
        "params_to_update = model.parameters()\n",
        "print(\"Params to learn:\")\n",
        "if feature_extract:\n",
        "    params_to_update = []\n",
        "    for name,param in model.named_parameters():\n",
        "        if param.requires_grad == True:\n",
        "            params_to_update.append(param)\n",
        "            print(\"\\t\",name)\n",
        "else:\n",
        "    for name,param in model.named_parameters():\n",
        "        if param.requires_grad == True:\n",
        "            print(\"\\t\",name)\n",
        "\n",
        "# Observe that all parameters are being optimized\n",
        "optimizer = optim.SGD(params_to_update, lr=0.01, momentum=0.9) #原lr = 0.001\n",
        "\n",
        "criterion = nn.CrossEntropyLoss()"
      ],
      "execution_count": 19,
      "outputs": [
        {
          "output_type": "stream",
          "text": [
            "Params to learn:\n",
            "\t fc.weight\n",
            "\t fc.bias\n"
          ],
          "name": "stdout"
        }
      ]
    },
    {
      "cell_type": "code",
      "metadata": {
        "id": "XOGkwJ5C7ScO",
        "outputId": "11a39cb1-7061-4576-b4c9-7f8541e241af",
        "colab": {
          "base_uri": "https://localhost:8080/",
          "height": 1000
        }
      },
      "source": [
        "dataloaders = {\n",
        "    'train': train_loader,\n",
        "    'val': val_loader\n",
        "}\n",
        "\n",
        "model, history = train_model(model, dataloaders, criterion, optimizer, num_epochs=num_epochs, is_inception=False)\n"
      ],
      "execution_count": 20,
      "outputs": [
        {
          "output_type": "stream",
          "text": [
            "Epoch 0/29\n",
            "----------\n",
            "train Loss: 1.0021 Acc: 0.6335\n",
            "val Loss: 1.0773 Acc: 0.5592\n",
            "\n",
            "Epoch 1/29\n",
            "----------\n",
            "train Loss: 0.4796 Acc: 0.8408\n",
            "val Loss: 1.3282 Acc: 0.4836\n",
            "\n",
            "Epoch 2/29\n",
            "----------\n",
            "train Loss: 0.3735 Acc: 0.8822\n",
            "val Loss: 0.8954 Acc: 0.6316\n",
            "\n",
            "Epoch 3/29\n",
            "----------\n",
            "train Loss: 0.3213 Acc: 0.8948\n",
            "val Loss: 0.3402 Acc: 0.8750\n",
            "\n",
            "Epoch 4/29\n",
            "----------\n",
            "train Loss: 0.3250 Acc: 0.8876\n",
            "val Loss: 0.2611 Acc: 0.9145\n",
            "\n",
            "Epoch 5/29\n",
            "----------\n",
            "train Loss: 0.2678 Acc: 0.9101\n",
            "val Loss: 0.1939 Acc: 0.9408\n",
            "\n",
            "Epoch 6/29\n",
            "----------\n",
            "train Loss: 0.3264 Acc: 0.8876\n",
            "val Loss: 0.2508 Acc: 0.9079\n",
            "\n",
            "Epoch 7/29\n",
            "----------\n",
            "train Loss: 0.2893 Acc: 0.8997\n",
            "val Loss: 0.1863 Acc: 0.9375\n",
            "\n",
            "Epoch 8/29\n",
            "----------\n",
            "train Loss: 0.2809 Acc: 0.9038\n",
            "val Loss: 0.2158 Acc: 0.9276\n",
            "\n",
            "Epoch 9/29\n",
            "----------\n",
            "train Loss: 0.2708 Acc: 0.9083\n",
            "val Loss: 0.2105 Acc: 0.9342\n",
            "\n",
            "Epoch 10/29\n",
            "----------\n",
            "train Loss: 0.2701 Acc: 0.9123\n",
            "val Loss: 0.1886 Acc: 0.9441\n",
            "\n",
            "Epoch 11/29\n",
            "----------\n",
            "train Loss: 0.2870 Acc: 0.8957\n",
            "val Loss: 0.1641 Acc: 0.9572\n",
            "\n",
            "Epoch 12/29\n",
            "----------\n",
            "train Loss: 0.2785 Acc: 0.8997\n",
            "val Loss: 0.1886 Acc: 0.9474\n",
            "\n",
            "Epoch 13/29\n",
            "----------\n",
            "train Loss: 0.2522 Acc: 0.9110\n",
            "val Loss: 0.1689 Acc: 0.9474\n",
            "\n",
            "Epoch 14/29\n",
            "----------\n",
            "train Loss: 0.2551 Acc: 0.9105\n",
            "val Loss: 0.1619 Acc: 0.9507\n",
            "\n",
            "Epoch 15/29\n",
            "----------\n",
            "train Loss: 0.2302 Acc: 0.9186\n",
            "val Loss: 0.1662 Acc: 0.9539\n",
            "\n",
            "Epoch 16/29\n",
            "----------\n",
            "train Loss: 0.2456 Acc: 0.9159\n",
            "val Loss: 0.1650 Acc: 0.9605\n",
            "\n",
            "Epoch 17/29\n",
            "----------\n",
            "train Loss: 0.2418 Acc: 0.9128\n",
            "val Loss: 0.1456 Acc: 0.9605\n",
            "\n",
            "Epoch 18/29\n",
            "----------\n",
            "train Loss: 0.2217 Acc: 0.9218\n",
            "val Loss: 0.2026 Acc: 0.9408\n",
            "\n",
            "Epoch 19/29\n",
            "----------\n",
            "train Loss: 0.2131 Acc: 0.9231\n",
            "val Loss: 0.1644 Acc: 0.9539\n",
            "\n",
            "Epoch 20/29\n",
            "----------\n",
            "train Loss: 0.2097 Acc: 0.9353\n",
            "val Loss: 0.1410 Acc: 0.9737\n",
            "\n",
            "Epoch 21/29\n",
            "----------\n",
            "train Loss: 0.2218 Acc: 0.9240\n",
            "val Loss: 0.1926 Acc: 0.9441\n",
            "\n",
            "Epoch 22/29\n",
            "----------\n",
            "train Loss: 0.2279 Acc: 0.9218\n",
            "val Loss: 0.1621 Acc: 0.9539\n",
            "\n",
            "Epoch 23/29\n",
            "----------\n",
            "train Loss: 0.2137 Acc: 0.9272\n",
            "val Loss: 0.1368 Acc: 0.9572\n",
            "\n",
            "Epoch 24/29\n",
            "----------\n",
            "train Loss: 0.2482 Acc: 0.9114\n",
            "val Loss: 0.1434 Acc: 0.9474\n",
            "\n",
            "Epoch 25/29\n",
            "----------\n",
            "train Loss: 0.2113 Acc: 0.9299\n",
            "val Loss: 0.1247 Acc: 0.9605\n",
            "\n",
            "Epoch 26/29\n",
            "----------\n",
            "train Loss: 0.2196 Acc: 0.9204\n",
            "val Loss: 0.1752 Acc: 0.9441\n",
            "\n",
            "Epoch 27/29\n",
            "----------\n",
            "train Loss: 0.2463 Acc: 0.9213\n",
            "val Loss: 0.1525 Acc: 0.9507\n",
            "\n",
            "Epoch 28/29\n",
            "----------\n",
            "train Loss: 0.1808 Acc: 0.9451\n",
            "val Loss: 0.1503 Acc: 0.9507\n",
            "\n",
            "Epoch 29/29\n",
            "----------\n",
            "train Loss: 0.1934 Acc: 0.9339\n",
            "val Loss: 0.1409 Acc: 0.9605\n",
            "\n",
            "Training complete in 17m 40s\n",
            "Best val Acc: 0.973684\n"
          ],
          "name": "stdout"
        }
      ]
    },
    {
      "cell_type": "code",
      "metadata": {
        "id": "YEU-eFcM2bGs"
      },
      "source": [
        "output_path = '{}/{}'.format(cloud_path, 'aoi_{}_202001020.pth'.format(model_name))\n",
        "#print(output_path)\n",
        "# torch.save colab 會有 error output, 不需要理會\n",
        "torch.save(model, output_path)"
      ],
      "execution_count": 32,
      "outputs": []
    },
    {
      "cell_type": "code",
      "metadata": {
        "id": "eHcxkWXv4RjI",
        "outputId": "94892f61-0df0-4158-fd4c-394c9be44d54",
        "colab": {
          "base_uri": "https://localhost:8080/",
          "height": 281
        }
      },
      "source": [
        "plt.title(model_name)\n",
        "plt.plot(history['loss_train'], label='Training Loss')\n",
        "plt.plot(history['loss_val'], label='Validation Loss')\n",
        "# plt.plot(test_losses, label='Validation loss')\n",
        "plt.legend(frameon=False)\n",
        "plt.show()\n",
        "#https://www.zhihu.com/question/58200419"
      ],
      "execution_count": 33,
      "outputs": [
        {
          "output_type": "display_data",
          "data": {
            "image/png": "[encoded data removed]",
            "text/plain": [
              "<Figure size 432x288 with 1 Axes>"
            ]
          },
          "metadata": {
            "tags": [],
            "needs_background": "light"
          }
        }
      ]
    },
    {
      "cell_type": "markdown",
      "metadata": {
        "id": "IljciXxYzQzm"
      },
      "source": [
        "## 驗證 Testing Set"
      ]
    },
    {
      "cell_type": "code",
      "metadata": {
        "id": "nqXRneJi5cLN",
        "outputId": "c39cb4d3-e7c2-4eb5-c1d5-6b0328c6c9f3",
        "colab": {
          "base_uri": "https://localhost:8080/",
          "height": 195
        }
      },
      "source": [
        "df_test = pd.read_csv('{}/{}'.format(to_path, 'test.csv'))\n",
        "df_test['Label'] = 0\n",
        "\n",
        "df_test.head()"
      ],
      "execution_count": 34,
      "outputs": [
        {
          "output_type": "execute_result",
          "data": {
            "text/html": [
              "<div>\n",
              "<style scoped>\n",
              "    .dataframe tbody tr th:only-of-type {\n",
              "        vertical-align: middle;\n",
              "    }\n",
              "\n",
              "    .dataframe tbody tr th {\n",
              "        vertical-align: top;\n",
              "    }\n",
              "\n",
              "    .dataframe thead th {\n",
              "        text-align: right;\n",
              "    }\n",
              "</style>\n",
              "<table border=\"1\" class=\"dataframe\">\n",
              "  <thead>\n",
              "    <tr style=\"text-align: right;\">\n",
              "      <th></th>\n",
              "      <th>ID</th>\n",
              "      <th>Label</th>\n",
              "    </tr>\n",
              "  </thead>\n",
              "  <tbody>\n",
              "    <tr>\n",
              "      <th>0</th>\n",
              "      <td>test_00000.png</td>\n",
              "      <td>0</td>\n",
              "    </tr>\n",
              "    <tr>\n",
              "      <th>1</th>\n",
              "      <td>test_00001.png</td>\n",
              "      <td>0</td>\n",
              "    </tr>\n",
              "    <tr>\n",
              "      <th>2</th>\n",
              "      <td>test_00002.png</td>\n",
              "      <td>0</td>\n",
              "    </tr>\n",
              "    <tr>\n",
              "      <th>3</th>\n",
              "      <td>test_00003.png</td>\n",
              "      <td>0</td>\n",
              "    </tr>\n",
              "    <tr>\n",
              "      <th>4</th>\n",
              "      <td>test_00004.png</td>\n",
              "      <td>0</td>\n",
              "    </tr>\n",
              "  </tbody>\n",
              "</table>\n",
              "</div>"
            ],
            "text/plain": [
              "               ID  Label\n",
              "0  test_00000.png      0\n",
              "1  test_00001.png      0\n",
              "2  test_00002.png      0\n",
              "3  test_00003.png      0\n",
              "4  test_00004.png      0"
            ]
          },
          "metadata": {
            "tags": []
          },
          "execution_count": 34
        }
      ]
    },
    {
      "cell_type": "code",
      "metadata": {
        "id": "VUTmiWLI0Feo",
        "outputId": "a05cf04f-08c7-4195-f009-ae83c24eaa44",
        "colab": {
          "base_uri": "https://localhost:8080/",
          "height": 386
        }
      },
      "source": [
        "# load model\n",
        "device = torch.device(\"cuda:0\" if torch.cuda.is_available() else \"cpu\")\n",
        "output_path = '{}/{}'.format(to_path, output_path)\n",
        "model = torch.load(output_path)#可能出現bug，不理會也行(可能是原本雲端就有這個model)\n",
        "model.eval()"
      ],
      "execution_count": 38,
      "outputs": [
        {
          "output_type": "error",
          "ename": "FileNotFoundError",
          "evalue": "ignored",
          "traceback": [
            "\u001b[0;31m---------------------------------------------------------------------------\u001b[0m",
            "\u001b[0;31mFileNotFoundError\u001b[0m                         Traceback (most recent call last)",
            "\u001b[0;32m<ipython-input-38-9338ee9555e5>\u001b[0m in \u001b[0;36m<module>\u001b[0;34m()\u001b[0m\n\u001b[1;32m      2\u001b[0m \u001b[0mdevice\u001b[0m \u001b[0;34m=\u001b[0m \u001b[0mtorch\u001b[0m\u001b[0;34m.\u001b[0m\u001b[0mdevice\u001b[0m\u001b[0;34m(\u001b[0m\u001b[0;34m\"cuda:0\"\u001b[0m \u001b[0;32mif\u001b[0m \u001b[0mtorch\u001b[0m\u001b[0;34m.\u001b[0m\u001b[0mcuda\u001b[0m\u001b[0;34m.\u001b[0m\u001b[0mis_available\u001b[0m\u001b[0;34m(\u001b[0m\u001b[0;34m)\u001b[0m \u001b[0;32melse\u001b[0m \u001b[0;34m\"cpu\"\u001b[0m\u001b[0;34m)\u001b[0m\u001b[0;34m\u001b[0m\u001b[0;34m\u001b[0m\u001b[0m\n\u001b[1;32m      3\u001b[0m \u001b[0moutput_path\u001b[0m \u001b[0;34m=\u001b[0m \u001b[0;34m'{}/{}'\u001b[0m\u001b[0;34m.\u001b[0m\u001b[0mformat\u001b[0m\u001b[0;34m(\u001b[0m\u001b[0mto_path\u001b[0m\u001b[0;34m,\u001b[0m \u001b[0moutput_path\u001b[0m\u001b[0;34m)\u001b[0m\u001b[0;34m\u001b[0m\u001b[0;34m\u001b[0m\u001b[0m\n\u001b[0;32m----> 4\u001b[0;31m \u001b[0mmodel\u001b[0m \u001b[0;34m=\u001b[0m \u001b[0mtorch\u001b[0m\u001b[0;34m.\u001b[0m\u001b[0mload\u001b[0m\u001b[0;34m(\u001b[0m\u001b[0moutput_path\u001b[0m\u001b[0;34m)\u001b[0m\u001b[0;31m#可能出現bug，不理會也行(可能是原本雲端就有這個model)\u001b[0m\u001b[0;34m\u001b[0m\u001b[0;34m\u001b[0m\u001b[0m\n\u001b[0m\u001b[1;32m      5\u001b[0m \u001b[0mmodel\u001b[0m\u001b[0;34m.\u001b[0m\u001b[0meval\u001b[0m\u001b[0;34m(\u001b[0m\u001b[0;34m)\u001b[0m\u001b[0;34m\u001b[0m\u001b[0;34m\u001b[0m\u001b[0m\n",
            "\u001b[0;32m/usr/local/lib/python3.6/dist-packages/torch/serialization.py\u001b[0m in \u001b[0;36mload\u001b[0;34m(f, map_location, pickle_module, **pickle_load_args)\u001b[0m\n\u001b[1;32m    569\u001b[0m         \u001b[0mpickle_load_args\u001b[0m\u001b[0;34m[\u001b[0m\u001b[0;34m'encoding'\u001b[0m\u001b[0;34m]\u001b[0m \u001b[0;34m=\u001b[0m \u001b[0;34m'utf-8'\u001b[0m\u001b[0;34m\u001b[0m\u001b[0;34m\u001b[0m\u001b[0m\n\u001b[1;32m    570\u001b[0m \u001b[0;34m\u001b[0m\u001b[0m\n\u001b[0;32m--> 571\u001b[0;31m     \u001b[0;32mwith\u001b[0m \u001b[0m_open_file_like\u001b[0m\u001b[0;34m(\u001b[0m\u001b[0mf\u001b[0m\u001b[0;34m,\u001b[0m \u001b[0;34m'rb'\u001b[0m\u001b[0;34m)\u001b[0m \u001b[0;32mas\u001b[0m \u001b[0mopened_file\u001b[0m\u001b[0;34m:\u001b[0m\u001b[0;34m\u001b[0m\u001b[0;34m\u001b[0m\u001b[0m\n\u001b[0m\u001b[1;32m    572\u001b[0m         \u001b[0;32mif\u001b[0m \u001b[0m_is_zipfile\u001b[0m\u001b[0;34m(\u001b[0m\u001b[0mopened_file\u001b[0m\u001b[0;34m)\u001b[0m\u001b[0;34m:\u001b[0m\u001b[0;34m\u001b[0m\u001b[0;34m\u001b[0m\u001b[0m\n\u001b[1;32m    573\u001b[0m             \u001b[0;31m# The zipfile reader is going to advance the current file position.\u001b[0m\u001b[0;34m\u001b[0m\u001b[0;34m\u001b[0m\u001b[0;34m\u001b[0m\u001b[0m\n",
            "\u001b[0;32m/usr/local/lib/python3.6/dist-packages/torch/serialization.py\u001b[0m in \u001b[0;36m_open_file_like\u001b[0;34m(name_or_buffer, mode)\u001b[0m\n\u001b[1;32m    227\u001b[0m \u001b[0;32mdef\u001b[0m \u001b[0m_open_file_like\u001b[0m\u001b[0;34m(\u001b[0m\u001b[0mname_or_buffer\u001b[0m\u001b[0;34m,\u001b[0m \u001b[0mmode\u001b[0m\u001b[0;34m)\u001b[0m\u001b[0;34m:\u001b[0m\u001b[0;34m\u001b[0m\u001b[0;34m\u001b[0m\u001b[0m\n\u001b[1;32m    228\u001b[0m     \u001b[0;32mif\u001b[0m \u001b[0m_is_path\u001b[0m\u001b[0;34m(\u001b[0m\u001b[0mname_or_buffer\u001b[0m\u001b[0;34m)\u001b[0m\u001b[0;34m:\u001b[0m\u001b[0;34m\u001b[0m\u001b[0;34m\u001b[0m\u001b[0m\n\u001b[0;32m--> 229\u001b[0;31m         \u001b[0;32mreturn\u001b[0m \u001b[0m_open_file\u001b[0m\u001b[0;34m(\u001b[0m\u001b[0mname_or_buffer\u001b[0m\u001b[0;34m,\u001b[0m \u001b[0mmode\u001b[0m\u001b[0;34m)\u001b[0m\u001b[0;34m\u001b[0m\u001b[0;34m\u001b[0m\u001b[0m\n\u001b[0m\u001b[1;32m    230\u001b[0m     \u001b[0;32melse\u001b[0m\u001b[0;34m:\u001b[0m\u001b[0;34m\u001b[0m\u001b[0;34m\u001b[0m\u001b[0m\n\u001b[1;32m    231\u001b[0m         \u001b[0;32mif\u001b[0m \u001b[0;34m'w'\u001b[0m \u001b[0;32min\u001b[0m \u001b[0mmode\u001b[0m\u001b[0;34m:\u001b[0m\u001b[0;34m\u001b[0m\u001b[0;34m\u001b[0m\u001b[0m\n",
            "\u001b[0;32m/usr/local/lib/python3.6/dist-packages/torch/serialization.py\u001b[0m in \u001b[0;36m__init__\u001b[0;34m(self, name, mode)\u001b[0m\n\u001b[1;32m    208\u001b[0m \u001b[0;32mclass\u001b[0m \u001b[0m_open_file\u001b[0m\u001b[0;34m(\u001b[0m\u001b[0m_opener\u001b[0m\u001b[0;34m)\u001b[0m\u001b[0;34m:\u001b[0m\u001b[0;34m\u001b[0m\u001b[0;34m\u001b[0m\u001b[0m\n\u001b[1;32m    209\u001b[0m     \u001b[0;32mdef\u001b[0m \u001b[0m__init__\u001b[0m\u001b[0;34m(\u001b[0m\u001b[0mself\u001b[0m\u001b[0;34m,\u001b[0m \u001b[0mname\u001b[0m\u001b[0;34m,\u001b[0m \u001b[0mmode\u001b[0m\u001b[0;34m)\u001b[0m\u001b[0;34m:\u001b[0m\u001b[0;34m\u001b[0m\u001b[0;34m\u001b[0m\u001b[0m\n\u001b[0;32m--> 210\u001b[0;31m         \u001b[0msuper\u001b[0m\u001b[0;34m(\u001b[0m\u001b[0m_open_file\u001b[0m\u001b[0;34m,\u001b[0m \u001b[0mself\u001b[0m\u001b[0;34m)\u001b[0m\u001b[0;34m.\u001b[0m\u001b[0m__init__\u001b[0m\u001b[0;34m(\u001b[0m\u001b[0mopen\u001b[0m\u001b[0;34m(\u001b[0m\u001b[0mname\u001b[0m\u001b[0;34m,\u001b[0m \u001b[0mmode\u001b[0m\u001b[0;34m)\u001b[0m\u001b[0;34m)\u001b[0m\u001b[0;34m\u001b[0m\u001b[0;34m\u001b[0m\u001b[0m\n\u001b[0m\u001b[1;32m    211\u001b[0m \u001b[0;34m\u001b[0m\u001b[0m\n\u001b[1;32m    212\u001b[0m     \u001b[0;32mdef\u001b[0m \u001b[0m__exit__\u001b[0m\u001b[0;34m(\u001b[0m\u001b[0mself\u001b[0m\u001b[0;34m,\u001b[0m \u001b[0;34m*\u001b[0m\u001b[0margs\u001b[0m\u001b[0;34m)\u001b[0m\u001b[0;34m:\u001b[0m\u001b[0;34m\u001b[0m\u001b[0;34m\u001b[0m\u001b[0m\n",
            "\u001b[0;31mFileNotFoundError\u001b[0m: [Errno 2] No such file or directory: '/_temp//content/drive/My Drive/ML_assets//_temp//content/drive/My Drive/ML_assets/aoi_resnet152_202001020.pth'"
          ]
        }
      ]
    },
    {
      "cell_type": "code",
      "metadata": {
        "id": "OgpdFXDGzgF5",
        "outputId": "c9509898-460d-412c-c61f-17ea113d5684",
        "colab": {
          "base_uri": "https://localhost:8080/",
          "height": 171
        }
      },
      "source": [
        "# create train/val datasets\n",
        "from PIL import ImageFile\n",
        "ImageFile.LOAD_TRUNCATED_IMAGES = True\n",
        "\n",
        "test_root = '{}/{}'.format(to_path, 'test_images')\n",
        "\n",
        "\n",
        "testset = aoiDataset(root=test_root, \n",
        "                      X=np.array(df_test['ID']), y=np.array(df_test['Label']),\n",
        "                      transform=data_transforms['val'])\n",
        "\n",
        "testloader = DataLoader(dataset=testset,\n",
        "                        batch_size=64, #原:16\n",
        "                        shuffle=False,\n",
        "                        num_workers=16) #原:4\n",
        "\n",
        "\n",
        "dataiter = iter(testloader)\n",
        "images, labels = dataiter.next()\n",
        "\n",
        "# print images\n",
        "imshow(torchvision.utils.make_grid(images[:4]))"
      ],
      "execution_count": 39,
      "outputs": [
        {
          "output_type": "stream",
          "text": [
            "Total data split: 10142\n"
          ],
          "name": "stdout"
        },
        {
          "output_type": "stream",
          "text": [
            "Clipping input data to the valid range for imshow with RGB data ([0..1] for floats or [0..255] for integers).\n"
          ],
          "name": "stderr"
        },
        {
          "output_type": "display_data",
          "data": {
            "image/png": "[encoded data removed]",
            "text/plain": [
              "<Figure size 432x288 with 1 Axes>"
            ]
          },
          "metadata": {
            "tags": [],
            "needs_background": "light"
          }
        }
      ]
    },
    {
      "cell_type": "code",
      "metadata": {
        "id": "rLF0BgaD50NQ"
      },
      "source": [
        "test_output = []\n",
        "\n",
        "for inputs, labels in testloader:\n",
        "    outputs = model(inputs.to(device)) \n",
        "    _, predicted = torch.max(outputs, 1)\n",
        "    test_output += predicted.tolist()"
      ],
      "execution_count": 40,
      "outputs": []
    },
    {
      "cell_type": "code",
      "metadata": {
        "id": "P2494Xwt_EV9",
        "outputId": "0fab7b10-084d-4d48-e5c5-43733b5fd285",
        "colab": {
          "base_uri": "https://localhost:8080/",
          "height": 343
        }
      },
      "source": [
        "df_output = df_test.copy()\n",
        "df_output['Label'] = test_output\n",
        "df_output.head(10)"
      ],
      "execution_count": 41,
      "outputs": [
        {
          "output_type": "execute_result",
          "data": {
            "text/html": [
              "<div>\n",
              "<style scoped>\n",
              "    .dataframe tbody tr th:only-of-type {\n",
              "        vertical-align: middle;\n",
              "    }\n",
              "\n",
              "    .dataframe tbody tr th {\n",
              "        vertical-align: top;\n",
              "    }\n",
              "\n",
              "    .dataframe thead th {\n",
              "        text-align: right;\n",
              "    }\n",
              "</style>\n",
              "<table border=\"1\" class=\"dataframe\">\n",
              "  <thead>\n",
              "    <tr style=\"text-align: right;\">\n",
              "      <th></th>\n",
              "      <th>ID</th>\n",
              "      <th>Label</th>\n",
              "    </tr>\n",
              "  </thead>\n",
              "  <tbody>\n",
              "    <tr>\n",
              "      <th>0</th>\n",
              "      <td>test_00000.png</td>\n",
              "      <td>1</td>\n",
              "    </tr>\n",
              "    <tr>\n",
              "      <th>1</th>\n",
              "      <td>test_00001.png</td>\n",
              "      <td>2</td>\n",
              "    </tr>\n",
              "    <tr>\n",
              "      <th>2</th>\n",
              "      <td>test_00002.png</td>\n",
              "      <td>5</td>\n",
              "    </tr>\n",
              "    <tr>\n",
              "      <th>3</th>\n",
              "      <td>test_00003.png</td>\n",
              "      <td>1</td>\n",
              "    </tr>\n",
              "    <tr>\n",
              "      <th>4</th>\n",
              "      <td>test_00004.png</td>\n",
              "      <td>2</td>\n",
              "    </tr>\n",
              "    <tr>\n",
              "      <th>5</th>\n",
              "      <td>test_00005.png</td>\n",
              "      <td>5</td>\n",
              "    </tr>\n",
              "    <tr>\n",
              "      <th>6</th>\n",
              "      <td>test_00006.png</td>\n",
              "      <td>5</td>\n",
              "    </tr>\n",
              "    <tr>\n",
              "      <th>7</th>\n",
              "      <td>test_00007.png</td>\n",
              "      <td>5</td>\n",
              "    </tr>\n",
              "    <tr>\n",
              "      <th>8</th>\n",
              "      <td>test_00008.png</td>\n",
              "      <td>0</td>\n",
              "    </tr>\n",
              "    <tr>\n",
              "      <th>9</th>\n",
              "      <td>test_00009.png</td>\n",
              "      <td>2</td>\n",
              "    </tr>\n",
              "  </tbody>\n",
              "</table>\n",
              "</div>"
            ],
            "text/plain": [
              "               ID  Label\n",
              "0  test_00000.png      1\n",
              "1  test_00001.png      2\n",
              "2  test_00002.png      5\n",
              "3  test_00003.png      1\n",
              "4  test_00004.png      2\n",
              "5  test_00005.png      5\n",
              "6  test_00006.png      5\n",
              "7  test_00007.png      5\n",
              "8  test_00008.png      0\n",
              "9  test_00009.png      2"
            ]
          },
          "metadata": {
            "tags": []
          },
          "execution_count": 41
        }
      ]
    },
    {
      "cell_type": "code",
      "metadata": {
        "id": "_y1-Nxw47G4W"
      },
      "source": [
        "df_output.to_csv( '{}/{}'.format(cloud_path, 'aoi_{}.csv'.format(model_name)), index=0)"
      ],
      "execution_count": 42,
      "outputs": []
    }
  ]
}