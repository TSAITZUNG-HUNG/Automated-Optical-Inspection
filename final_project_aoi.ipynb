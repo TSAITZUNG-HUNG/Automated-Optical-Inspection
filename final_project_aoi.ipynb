{
  "nbformat": 4,
  "nbformat_minor": 0,
  "metadata": {
    "accelerator": "GPU",
    "colab": {
      "name": "final_project_aoi.ipynb",
      "provenance": [],
      "collapsed_sections": [],
      "toc_visible": true
    },
    "kernelspec": {
      "display_name": "Python 3",
      "language": "python",
      "name": "python3"
    },
    "language_info": {
      "codemirror_mode": {
        "name": "ipython",
        "version": 3
      },
      "file_extension": ".py",
      "mimetype": "text/x-python",
      "name": "python",
      "nbconvert_exporter": "python",
      "pygments_lexer": "ipython3",
      "version": "3.6.8"
    },
    "widgets": {
      "application/vnd.jupyter.widget-state+json": {
        "4cd91e93dde34fca983ffdc7d4963c44": {
          "model_module": "@jupyter-widgets/controls",
          "model_name": "HBoxModel",
          "state": {
            "_view_name": "HBoxView",
            "_dom_classes": [],
            "_model_name": "HBoxModel",
            "_view_module": "@jupyter-widgets/controls",
            "_model_module_version": "1.5.0",
            "_view_count": null,
            "_view_module_version": "1.5.0",
            "box_style": "",
            "layout": "IPY_MODEL_36b97a8044e04ea281bb651d4093e3f7",
            "_model_module": "@jupyter-widgets/controls",
            "children": [
              "IPY_MODEL_263acd68ada341179d1befe8e1864c2e",
              "IPY_MODEL_14bc4668d4af45f5b9a0b78488269259"
            ]
          }
        },
        "36b97a8044e04ea281bb651d4093e3f7": {
          "model_module": "@jupyter-widgets/base",
          "model_name": "LayoutModel",
          "state": {
            "_view_name": "LayoutView",
            "grid_template_rows": null,
            "right": null,
            "justify_content": null,
            "_view_module": "@jupyter-widgets/base",
            "overflow": null,
            "_model_module_version": "1.2.0",
            "_view_count": null,
            "flex_flow": null,
            "width": null,
            "min_width": null,
            "border": null,
            "align_items": null,
            "bottom": null,
            "_model_module": "@jupyter-widgets/base",
            "top": null,
            "grid_column": null,
            "overflow_y": null,
            "overflow_x": null,
            "grid_auto_flow": null,
            "grid_area": null,
            "grid_template_columns": null,
            "flex": null,
            "_model_name": "LayoutModel",
            "justify_items": null,
            "grid_row": null,
            "max_height": null,
            "align_content": null,
            "visibility": null,
            "align_self": null,
            "height": null,
            "min_height": null,
            "padding": null,
            "grid_auto_rows": null,
            "grid_gap": null,
            "max_width": null,
            "order": null,
            "_view_module_version": "1.2.0",
            "grid_template_areas": null,
            "object_position": null,
            "object_fit": null,
            "grid_auto_columns": null,
            "margin": null,
            "display": null,
            "left": null
          }
        },
        "263acd68ada341179d1befe8e1864c2e": {
          "model_module": "@jupyter-widgets/controls",
          "model_name": "FloatProgressModel",
          "state": {
            "_view_name": "ProgressView",
            "style": "IPY_MODEL_e7453c2bda2a425d89bfc238e34f121a",
            "_dom_classes": [],
            "description": "100%",
            "_model_name": "FloatProgressModel",
            "bar_style": "success",
            "max": 241530880,
            "_view_module": "@jupyter-widgets/controls",
            "_model_module_version": "1.5.0",
            "value": 241530880,
            "_view_count": null,
            "_view_module_version": "1.5.0",
            "orientation": "horizontal",
            "min": 0,
            "description_tooltip": null,
            "_model_module": "@jupyter-widgets/controls",
            "layout": "IPY_MODEL_3a46bccb93694cfcad58febf7b52d9ad"
          }
        },
        "14bc4668d4af45f5b9a0b78488269259": {
          "model_module": "@jupyter-widgets/controls",
          "model_name": "HTMLModel",
          "state": {
            "_view_name": "HTMLView",
            "style": "IPY_MODEL_f50edc7558594c76a44ab607f539875d",
            "_dom_classes": [],
            "description": "",
            "_model_name": "HTMLModel",
            "placeholder": "​",
            "_view_module": "@jupyter-widgets/controls",
            "_model_module_version": "1.5.0",
            "value": " 230M/230M [00:44&lt;00:00, 5.41MB/s]",
            "_view_count": null,
            "_view_module_version": "1.5.0",
            "description_tooltip": null,
            "_model_module": "@jupyter-widgets/controls",
            "layout": "IPY_MODEL_122075844a5d4ad191486aa4de466135"
          }
        },
        "e7453c2bda2a425d89bfc238e34f121a": {
          "model_module": "@jupyter-widgets/controls",
          "model_name": "ProgressStyleModel",
          "state": {
            "_view_name": "StyleView",
            "_model_name": "ProgressStyleModel",
            "description_width": "initial",
            "_view_module": "@jupyter-widgets/base",
            "_model_module_version": "1.5.0",
            "_view_count": null,
            "_view_module_version": "1.2.0",
            "bar_color": null,
            "_model_module": "@jupyter-widgets/controls"
          }
        },
        "3a46bccb93694cfcad58febf7b52d9ad": {
          "model_module": "@jupyter-widgets/base",
          "model_name": "LayoutModel",
          "state": {
            "_view_name": "LayoutView",
            "grid_template_rows": null,
            "right": null,
            "justify_content": null,
            "_view_module": "@jupyter-widgets/base",
            "overflow": null,
            "_model_module_version": "1.2.0",
            "_view_count": null,
            "flex_flow": null,
            "width": null,
            "min_width": null,
            "border": null,
            "align_items": null,
            "bottom": null,
            "_model_module": "@jupyter-widgets/base",
            "top": null,
            "grid_column": null,
            "overflow_y": null,
            "overflow_x": null,
            "grid_auto_flow": null,
            "grid_area": null,
            "grid_template_columns": null,
            "flex": null,
            "_model_name": "LayoutModel",
            "justify_items": null,
            "grid_row": null,
            "max_height": null,
            "align_content": null,
            "visibility": null,
            "align_self": null,
            "height": null,
            "min_height": null,
            "padding": null,
            "grid_auto_rows": null,
            "grid_gap": null,
            "max_width": null,
            "order": null,
            "_view_module_version": "1.2.0",
            "grid_template_areas": null,
            "object_position": null,
            "object_fit": null,
            "grid_auto_columns": null,
            "margin": null,
            "display": null,
            "left": null
          }
        },
        "f50edc7558594c76a44ab607f539875d": {
          "model_module": "@jupyter-widgets/controls",
          "model_name": "DescriptionStyleModel",
          "state": {
            "_view_name": "StyleView",
            "_model_name": "DescriptionStyleModel",
            "description_width": "",
            "_view_module": "@jupyter-widgets/base",
            "_model_module_version": "1.5.0",
            "_view_count": null,
            "_view_module_version": "1.2.0",
            "_model_module": "@jupyter-widgets/controls"
          }
        },
        "122075844a5d4ad191486aa4de466135": {
          "model_module": "@jupyter-widgets/base",
          "model_name": "LayoutModel",
          "state": {
            "_view_name": "LayoutView",
            "grid_template_rows": null,
            "right": null,
            "justify_content": null,
            "_view_module": "@jupyter-widgets/base",
            "overflow": null,
            "_model_module_version": "1.2.0",
            "_view_count": null,
            "flex_flow": null,
            "width": null,
            "min_width": null,
            "border": null,
            "align_items": null,
            "bottom": null,
            "_model_module": "@jupyter-widgets/base",
            "top": null,
            "grid_column": null,
            "overflow_y": null,
            "overflow_x": null,
            "grid_auto_flow": null,
            "grid_area": null,
            "grid_template_columns": null,
            "flex": null,
            "_model_name": "LayoutModel",
            "justify_items": null,
            "grid_row": null,
            "max_height": null,
            "align_content": null,
            "visibility": null,
            "align_self": null,
            "height": null,
            "min_height": null,
            "padding": null,
            "grid_auto_rows": null,
            "grid_gap": null,
            "max_width": null,
            "order": null,
            "_view_module_version": "1.2.0",
            "grid_template_areas": null,
            "object_position": null,
            "object_fit": null,
            "grid_auto_columns": null,
            "margin": null,
            "display": null,
            "left": null
          }
        }
      }
    }
  },
  "cells": [
    {
      "cell_type": "markdown",
      "metadata": {
        "id": "aRDUGd13kUFu"
      },
      "source": [
        "# 深度學習期末報告-自動光學檢查 AOI\n",
        "### 蔡宗宏 405031543 \n",
        "### 授課老師 邵皓強\n",
        "\n",
        "## 安裝環境與環境建置\n",
        "\n",
        "- Google CoLab\n",
        "- Python3 GPU\n",
        "- Pytroch\n",
        "\n",
        "## 資料準備\n",
        "\n",
        "### 連動 google drive\n",
        "\n"
      ]
    },
    {
      "cell_type": "code",
      "metadata": {
        "id": "oOSQpyWVn31K",
        "outputId": "b88402c5-88a7-4341-84f8-4a118ac8099f",
        "colab": {
          "base_uri": "https://localhost:8080/",
          "height": 34
        }
      },
      "source": [
        "from google.colab import drive\n",
        "drive.mount('/content/drive')"
      ],
      "execution_count": null,
      "outputs": [
        {
          "output_type": "stream",
          "text": [
            "Mounted at /content/drive\n"
          ],
          "name": "stdout"
        }
      ]
    },
    {
      "cell_type": "code",
      "metadata": {
        "id": "c32kGOWExHr4"
      },
      "source": [
        "import numpy as np\n",
        "import matplotlib.pyplot as plt\n",
        "import pandas as pd\n",
        "from PIL import Image\n",
        "\n",
        "%matplotlib inline"
      ],
      "execution_count": null,
      "outputs": []
    },
    {
      "cell_type": "code",
      "metadata": {
        "id": "Rmxja9Tml8R3",
        "outputId": "bb5ec4b2-99d7-4484-b6f7-265e2a4f8b8c",
        "colab": {
          "base_uri": "https://localhost:8080/",
          "height": 52
        }
      },
      "source": [
        "from __future__ import print_function\n",
        "from __future__ import division\n",
        "import torch\n",
        "import torch.nn as nn\n",
        "import torch.optim as optim\n",
        "import torchvision\n",
        "from torchvision import models, transforms\n",
        "from torch.utils.data import Dataset, DataLoader\n",
        "import time\n",
        "import os\n",
        "import copy\n",
        "print(\"PyTorch Version: \",torch.__version__)\n",
        "print(\"Torchvision Version: \",torchvision.__version__)"
      ],
      "execution_count": null,
      "outputs": [
        {
          "output_type": "stream",
          "text": [
            "PyTorch Version:  1.6.0+cu101\n",
            "Torchvision Version:  0.7.0+cu101\n"
          ],
          "name": "stdout"
        }
      ]
    },
    {
      "cell_type": "markdown",
      "metadata": {
        "id": "RNFkCaKzgNya"
      },
      "source": [
        "### Unzip aoi.zip to cloud environment"
      ]
    },
    {
      "cell_type": "code",
      "metadata": {
        "id": "lFhQ3pJal-Zy"
      },
      "source": [
        "cloud_path = '/content/drive/My Drive/ML_assets'\n",
        "zip_path = '/content/drive/My Drive/ML_assets/aoi.zip'\n",
        "to_path = '/_temp'"
      ],
      "execution_count": null,
      "outputs": []
    },
    {
      "cell_type": "code",
      "metadata": {
        "id": "xT1FcPmNv6XW"
      },
      "source": [
        "from zipfile import ZipFile\n",
        "\n",
        "def unzip(paths, to_path):\n",
        "  \"\"\"paths: list, to_path\"\"\"\n",
        "  for path in paths:\n",
        "    if path.endswith('.zip'):\n",
        "      with ZipFile(path, 'r') as zipObj:\n",
        "        zipObj.extractall(to_path)\n",
        "        childs = ['{}/{}'.format(to_path, file_name) for file_name in zipObj.namelist()]\n",
        "        unzip(childs, to_path)\n",
        "\n",
        "unzip([zip_path], to_path)"
      ],
      "execution_count": null,
      "outputs": []
    },
    {
      "cell_type": "markdown",
      "metadata": {
        "id": "YGetRKf3g-UA"
      },
      "source": [
        "### 訓練資料"
      ]
    },
    {
      "cell_type": "code",
      "metadata": {
        "id": "adscDLZY0fb6",
        "outputId": "82799529-b350-4b13-b406-1d4afacf1655",
        "colab": {
          "base_uri": "https://localhost:8080/",
          "height": 195
        }
      },
      "source": [
        "df = pd.read_csv('{}/{}'.format(to_path, 'train.csv'))\n",
        "df.head()"
      ],
      "execution_count": null,
      "outputs": [
        {
          "output_type": "execute_result",
          "data": {
            "text/html": [
              "<div>\n",
              "<style scoped>\n",
              "    .dataframe tbody tr th:only-of-type {\n",
              "        vertical-align: middle;\n",
              "    }\n",
              "\n",
              "    .dataframe tbody tr th {\n",
              "        vertical-align: top;\n",
              "    }\n",
              "\n",
              "    .dataframe thead th {\n",
              "        text-align: right;\n",
              "    }\n",
              "</style>\n",
              "<table border=\"1\" class=\"dataframe\">\n",
              "  <thead>\n",
              "    <tr style=\"text-align: right;\">\n",
              "      <th></th>\n",
              "      <th>ID</th>\n",
              "      <th>Label</th>\n",
              "    </tr>\n",
              "  </thead>\n",
              "  <tbody>\n",
              "    <tr>\n",
              "      <th>0</th>\n",
              "      <td>train_00000.png</td>\n",
              "      <td>0</td>\n",
              "    </tr>\n",
              "    <tr>\n",
              "      <th>1</th>\n",
              "      <td>train_00001.png</td>\n",
              "      <td>1</td>\n",
              "    </tr>\n",
              "    <tr>\n",
              "      <th>2</th>\n",
              "      <td>train_00002.png</td>\n",
              "      <td>1</td>\n",
              "    </tr>\n",
              "    <tr>\n",
              "      <th>3</th>\n",
              "      <td>train_00003.png</td>\n",
              "      <td>5</td>\n",
              "    </tr>\n",
              "    <tr>\n",
              "      <th>4</th>\n",
              "      <td>train_00004.png</td>\n",
              "      <td>5</td>\n",
              "    </tr>\n",
              "  </tbody>\n",
              "</table>\n",
              "</div>"
            ],
            "text/plain": [
              "                ID  Label\n",
              "0  train_00000.png      0\n",
              "1  train_00001.png      1\n",
              "2  train_00002.png      1\n",
              "3  train_00003.png      5\n",
              "4  train_00004.png      5"
            ]
          },
          "metadata": {
            "tags": []
          },
          "execution_count": 6
        }
      ]
    },
    {
      "cell_type": "markdown",
      "metadata": {
        "id": "iKLnwV1JhF1Q"
      },
      "source": [
        "### 客製化 AOI 資料集\n",
        "\n"
      ]
    },
    {
      "cell_type": "code",
      "metadata": {
        "id": "5AFD-f7imN2W"
      },
      "source": [
        "class aoiDataset(Dataset):\n",
        "    def __init__(self, root, X, y, transform):\n",
        "        ##############################################\n",
        "        ### Initialize paths, transforms, and so on\n",
        "        ### data list -> DataFrame ID, Label\n",
        "        ##############################################\n",
        "        self.transform = transform\n",
        "        # \n",
        "        # load image path and annotations\n",
        "        self.imgs = X\n",
        "        self.imgs = [ '{}/{}'.format(root, img) for img in self.imgs ]\n",
        "        self.lbls = y\n",
        "        assert len(self.imgs) == len(self.lbls), 'mismatched length!'\n",
        "        print ('Total data split: {}'.format(len(self.imgs)))\n",
        "        \n",
        "    def __getitem__(self, index):\n",
        "        ##############################################\n",
        "        # 1. Read from file (using numpy.fromfile, PIL.Image.open)\n",
        "        # 2. Preprocess the data (torchvision.Transform).\n",
        "        # 3. Return the data (e.g. image and label)\n",
        "        ##############################################\n",
        "        imgpath = self.imgs[index]\n",
        "        img = Image.open(imgpath).convert('RGB')\n",
        "        lbl = int(self.lbls[index])\n",
        "        if self.transform is not None:\n",
        "            img = self.transform(img)\n",
        "        return img, lbl\n",
        "        \n",
        "    def __len__(self):\n",
        "        ##############################################\n",
        "        ### Indicate the total size of the dataset\n",
        "        ##############################################\n",
        "        return len(self.imgs)\n",
        "\n"
      ],
      "execution_count": null,
      "outputs": []
    },
    {
      "cell_type": "markdown",
      "metadata": {
        "id": "Lob2_z-QhaO7"
      },
      "source": [
        "### 訓練模型主程式\n",
        "\n",
        ">參考來源： https://pytorch.org/tutorials/beginner/finetuning_torchvision_models_tutorial.html"
      ]
    },
    {
      "cell_type": "code",
      "metadata": {
        "id": "ziuEgie3RESW"
      },
      "source": [
        "def initialize_model(model_name, num_classes, feature_extract, use_pretrained=True):\n",
        "    # Initialize these variables which will be set in this if statement. Each of these\n",
        "    #   variables is model specific.\n",
        "    model_ft = None\n",
        "    input_size = 0\n",
        "\n",
        "    if model_name == \"resnet\":\n",
        "        \"\"\" Resnet50\n",
        "        \"\"\"\n",
        "        model_ft = models.resnet50(pretrained=use_pretrained)\n",
        "        set_parameter_requires_grad(model_ft, feature_extract)\n",
        "        num_ftrs = model_ft.fc.in_features\n",
        "        model_ft.fc = nn.Linear(num_ftrs, num_classes)\n",
        "        input_size = 224\n",
        "\n",
        "    elif model_name == \"resnet152\":\n",
        "        \"\"\" Resnet152\n",
        "        \"\"\"\n",
        "        model_ft = models.resnet152(pretrained=use_pretrained)\n",
        "        set_parameter_requires_grad(model_ft, feature_extract)\n",
        "        num_ftrs = model_ft.fc.in_features\n",
        "        model_ft.fc = nn.Linear(num_ftrs, num_classes)\n",
        "        input_size = 224\n",
        "\n",
        "    elif model_name == \"alexnet\":\n",
        "        \"\"\" Alexnet\n",
        "        \"\"\"\n",
        "        model_ft = models.alexnet(pretrained=use_pretrained)\n",
        "        set_parameter_requires_grad(model_ft, feature_extract)\n",
        "        num_ftrs = model_ft.classifier[6].in_features\n",
        "        model_ft.classifier[6] = nn.Linear(num_ftrs,num_classes)\n",
        "        input_size = 224\n",
        "\n",
        "    elif model_name == \"vgg\":\n",
        "        \"\"\" VGG11_bn\n",
        "        \"\"\"\n",
        "        model_ft = models.vgg11_bn(pretrained=use_pretrained)\n",
        "        set_parameter_requires_grad(model_ft, feature_extract)\n",
        "        num_ftrs = model_ft.classifier[6].in_features\n",
        "        model_ft.classifier[6] = nn.Linear(num_ftrs,num_classes)\n",
        "        input_size = 224\n",
        "\n",
        "    elif model_name == \"squeezenet\":\n",
        "        \"\"\" Squeezenet\n",
        "        \"\"\"\n",
        "        model_ft = models.squeezenet1_0(pretrained=use_pretrained)\n",
        "        set_parameter_requires_grad(model_ft, feature_extract)\n",
        "        model_ft.classifier[1] = nn.Conv2d(512, num_classes, kernel_size=(1,1), stride=(1,1))\n",
        "        model_ft.num_classes = num_classes\n",
        "        input_size = 224\n",
        "\n",
        "    elif model_name == \"densenet\":\n",
        "        \"\"\" Densenet\n",
        "        \"\"\"\n",
        "        model_ft = models.densenet121(pretrained=use_pretrained)\n",
        "        set_parameter_requires_grad(model_ft, feature_extract)\n",
        "        num_ftrs = model_ft.classifier.in_features\n",
        "        model_ft.classifier = nn.Linear(num_ftrs, num_classes)\n",
        "        input_size = 224\n",
        "\n",
        "    elif model_name == \"inception\":\n",
        "        \"\"\" Inception v3\n",
        "        Be careful, expects (299,299) sized images and has auxiliary output\n",
        "        \"\"\"\n",
        "        model_ft = models.inception_v3(pretrained=use_pretrained)\n",
        "        set_parameter_requires_grad(model_ft, feature_extract)\n",
        "        # Handle the auxilary net\n",
        "        num_ftrs = model_ft.AuxLogits.fc.in_features\n",
        "        model_ft.AuxLogits.fc = nn.Linear(num_ftrs, num_classes)\n",
        "        # Handle the primary net\n",
        "        num_ftrs = model_ft.fc.in_features\n",
        "        model_ft.fc = nn.Linear(num_ftrs,num_classes)\n",
        "        input_size = 299\n",
        "\n",
        "    else:\n",
        "        print(\"Invalid model name, exiting...\")\n",
        "        exit()\n",
        "\n",
        "    return model_ft, input_size"
      ],
      "execution_count": null,
      "outputs": []
    },
    {
      "cell_type": "code",
      "metadata": {
        "id": "yWVkMfTkSDiq"
      },
      "source": [
        "def set_parameter_requires_grad(model, feature_extracting):\n",
        "    if feature_extracting:\n",
        "        for param in model.parameters():\n",
        "            param.requires_grad = False"
      ],
      "execution_count": null,
      "outputs": []
    },
    {
      "cell_type": "code",
      "metadata": {
        "id": "FTn6ntDDhVu3"
      },
      "source": [
        "# \n",
        "def train_model(model, dataloaders, criterion, optimizer, num_epochs=25, is_inception=False):\n",
        "    since = time.time()\n",
        "\n",
        "    history = {\n",
        "        'loss_val': [],\n",
        "        'loss_train': [],\n",
        "        'acc_val': [],\n",
        "        'acc_train': [],\n",
        "    }\n",
        "\n",
        "    best_model_wts = copy.deepcopy(model.state_dict())\n",
        "    best_acc = 0.0\n",
        "\n",
        "    for epoch in range(num_epochs):\n",
        "        print('Epoch {}/{}'.format(epoch, num_epochs - 1))\n",
        "        print('-' * 10)\n",
        "\n",
        "        # Each epoch has a training and validation phase\n",
        "        for phase in ['train', 'val']:\n",
        "            if phase == 'train':\n",
        "                model.train()  # Set model to training mode\n",
        "            else:\n",
        "                model.eval()   # Set model to evaluate mode\n",
        "\n",
        "            running_loss = 0.0\n",
        "            running_corrects = 0\n",
        "\n",
        "            # Iterate over data.\n",
        "            for inputs, labels in dataloaders[phase]:\n",
        "                inputs = inputs.to(device)\n",
        "                labels = labels.to(device)\n",
        "\n",
        "                # zero the parameter gradients\n",
        "                optimizer.zero_grad()\n",
        "\n",
        "                # forward\n",
        "                # track history if only in train\n",
        "                with torch.set_grad_enabled(phase == 'train'):\n",
        "                    # Get model outputs and calculate loss\n",
        "                    # Special case for inception because in training it has an auxiliary output. In train\n",
        "                    #   mode we calculate the loss by summing the final output and the auxiliary output\n",
        "                    #   but in testing we only consider the final output.\n",
        "                    if is_inception and phase == 'train':\n",
        "                        # From https://discuss.pytorch.org/t/how-to-optimize-inception-model-with-auxiliary-classifiers/7958\n",
        "                        outputs, aux_outputs = model(inputs)\n",
        "                        loss1 = criterion(outputs, labels)\n",
        "                        loss2 = criterion(aux_outputs, labels)\n",
        "                        loss = loss1 + 0.4*loss2\n",
        "                    else:\n",
        "                        outputs = model(inputs)\n",
        "                        loss = criterion(outputs, labels)\n",
        "\n",
        "                    _, preds = torch.max(outputs, 1)\n",
        "\n",
        "                    # backward + optimize only if in training phase\n",
        "                    if phase == 'train':\n",
        "                        loss.backward()\n",
        "                        optimizer.step()\n",
        "\n",
        "                # statistics\n",
        "                running_loss += loss.item() * inputs.size(0)\n",
        "                running_corrects += torch.sum(preds == labels.data)\n",
        "\n",
        "            epoch_loss = running_loss / len(dataloaders[phase].dataset)\n",
        "            epoch_acc = running_corrects.double() / len(dataloaders[phase].dataset)\n",
        "\n",
        "            print('{} Loss: {:.4f} Acc: {:.4f}'.format(phase, epoch_loss, epoch_acc))\n",
        "\n",
        "            # deep copy the model\n",
        "            if phase == 'val' and epoch_acc > best_acc:\n",
        "                best_acc = epoch_acc\n",
        "                best_model_wts = copy.deepcopy(model.state_dict())\n",
        "            if phase == 'val':\n",
        "                history['acc_val'].append(epoch_acc)\n",
        "                history['loss_val'].append(epoch_loss)\n",
        "            else:\n",
        "                history['acc_train'].append(epoch_acc)\n",
        "                history['loss_train'].append(epoch_loss)\n",
        "\n",
        "        print()\n",
        "\n",
        "    time_elapsed = time.time() - since\n",
        "    print('Training complete in {:.0f}m {:.0f}s'.format(time_elapsed // 60, time_elapsed % 60))\n",
        "    print('Best val Acc: {:4f}'.format(best_acc))\n",
        "\n",
        "    # load best model weights\n",
        "    model.load_state_dict(best_model_wts)\n",
        "    return model, history"
      ],
      "execution_count": null,
      "outputs": []
    },
    {
      "cell_type": "markdown",
      "metadata": {
        "id": "JF5knnN2TV0L"
      },
      "source": [
        "Model setting"
      ]
    },
    {
      "cell_type": "code",
      "metadata": {
        "id": "lVXYT3AnRl65"
      },
      "source": [
        "# Top level data directory. Here we assume the format of the directory conforms\n",
        "# Models to choose from [resnet50, resnet152, alexnet, vgg, squeezenet, densenet, inception]\n",
        "model_name = \"resnet152\"#這裡可以用不同的方法(上面的if else都有)，下面所有的數字都能˙改改看\n",
        "\n",
        "# Number of classes in the dataset\n",
        "num_classes = 6\n",
        "\n",
        "# Batch size for training (change depending on how much memory you have)\n",
        "batch_size = 16\n",
        "\n",
        "# Number of epochs to train for\n",
        "num_epochs = 20\n",
        "\n",
        "# Flag for feature extracting. When False, we finetune the whole model,\n",
        "#   when True we only update the reshaped layer params\n",
        "feature_extract = True"
      ],
      "execution_count": null,
      "outputs": []
    },
    {
      "cell_type": "code",
      "metadata": {
        "id": "TQx5KJV8Rxfi",
        "outputId": "ad0db7d2-19ed-4fed-874e-a1ef53de0f27",
        "colab": {
          "base_uri": "https://localhost:8080/",
          "height": 84,
          "referenced_widgets": [
            "4cd91e93dde34fca983ffdc7d4963c44",
            "36b97a8044e04ea281bb651d4093e3f7",
            "263acd68ada341179d1befe8e1864c2e",
            "14bc4668d4af45f5b9a0b78488269259",
            "e7453c2bda2a425d89bfc238e34f121a",
            "3a46bccb93694cfcad58febf7b52d9ad",
            "f50edc7558594c76a44ab607f539875d",
            "122075844a5d4ad191486aa4de466135"
          ]
        }
      },
      "source": [
        "model, input_size = initialize_model(model_name, num_classes, feature_extract, use_pretrained=True)"
      ],
      "execution_count": null,
      "outputs": [
        {
          "output_type": "stream",
          "text": [
            "Downloading: \"https://download.pytorch.org/models/resnet152-b121ed2d.pth\" to /root/.cache/torch/hub/checkpoints/resnet152-b121ed2d.pth\n"
          ],
          "name": "stderr"
        },
        {
          "output_type": "display_data",
          "data": {
            "application/vnd.jupyter.widget-view+json": {
              "model_id": "4cd91e93dde34fca983ffdc7d4963c44",
              "version_minor": 0,
              "version_major": 2
            },
            "text/plain": [
              "HBox(children=(FloatProgress(value=0.0, max=241530880.0), HTML(value='')))"
            ]
          },
          "metadata": {
            "tags": []
          }
        },
        {
          "output_type": "stream",
          "text": [
            "\n"
          ],
          "name": "stdout"
        }
      ]
    },
    {
      "cell_type": "markdown",
      "metadata": {
        "id": "nEu-zdnbmjJi"
      },
      "source": [
        "### 影像預處理"
      ]
    },
    {
      "cell_type": "code",
      "metadata": {
        "id": "J2Xk5-nL8Uhb"
      },
      "source": [
        "data_transforms = {\n",
        "    'train': transforms.Compose([\n",
        "                transforms.RandomResizedCrop(input_size),\n",
        "                transforms.RandomHorizontalFlip(),\n",
        "                transforms.ToTensor(),\n",
        "                transforms.Normalize(mean=[0.485, 0.456, 0.406],\n",
        "                                std=[0.229, 0.224, 0.225]),               \n",
        "                ]),\n",
        "    'val': transforms.Compose([\n",
        "                    transforms.Resize((input_size, input_size)),\n",
        "                    transforms.CenterCrop(input_size),\n",
        "                    transforms.ToTensor(),\n",
        "                    transforms.Normalize(mean=[0.485, 0.456, 0.406],\n",
        "                                   std=[0.229, 0.224, 0.225]),\n",
        "                    ])\n",
        "}"
      ],
      "execution_count": null,
      "outputs": []
    },
    {
      "cell_type": "markdown",
      "metadata": {
        "id": "3KBpFicAiEBI"
      },
      "source": [
        "### Training, Validation and Testing sets."
      ]
    },
    {
      "cell_type": "code",
      "metadata": {
        "id": "SWMQ8jrkma-2"
      },
      "source": [
        "from sklearn.model_selection import train_test_split\n",
        "\n",
        "X = np.array(df['ID'])\n",
        "y = np.array(df['Label'])\n",
        "\n",
        "X_train, X_test, y_train, y_test = train_test_split(X, y, test_size=0.12, random_state=100)"
      ],
      "execution_count": null,
      "outputs": []
    },
    {
      "cell_type": "code",
      "metadata": {
        "id": "NIUYTdcemw70",
        "outputId": "7e48154b-8cf5-4e4f-9169-263c6fe2834f",
        "colab": {
          "base_uri": "https://localhost:8080/",
          "height": 52
        }
      },
      "source": [
        "# create train/val datasets\n",
        "root = '{}/{}'.format(to_path, 'train_images')\n",
        "\n",
        "\n",
        "trainset = aoiDataset(root=root, \n",
        "                      X=X_train, y=y_train,\n",
        "                      transform=data_transforms['train'])\n",
        "valset = aoiDataset(root=root, \n",
        "                      X=X_test, y=y_test,\n",
        "                      transform=data_transforms['val'])\n",
        "\n",
        "# create train/val loaders\n",
        "train_loader = DataLoader(dataset=trainset,\n",
        "                          batch_size=16, \n",
        "                          shuffle=True,\n",
        "                          num_workers=4)\n",
        "\n",
        "val_loader = DataLoader(dataset=valset,\n",
        "                        batch_size=16, \n",
        "                        shuffle=False,\n",
        "                        num_workers=4)"
      ],
      "execution_count": null,
      "outputs": [
        {
          "output_type": "stream",
          "text": [
            "Total data split: 2224\n",
            "Total data split: 304\n"
          ],
          "name": "stdout"
        }
      ]
    },
    {
      "cell_type": "code",
      "metadata": {
        "id": "5Hadx_Wem2LW",
        "outputId": "791d34a7-3748-4c1a-f604-246d8dc3fcb2",
        "colab": {
          "base_uri": "https://localhost:8080/",
          "height": 171
        }
      },
      "source": [
        "def imshow(img):\n",
        "    img = img / 2 + 0.5     # unnormalize\n",
        "    npimg = img.numpy()\n",
        "    plt.imshow(np.transpose(npimg, (1, 2, 0)))\n",
        "\n",
        "dataiter = iter(train_loader)\n",
        "images, labels = dataiter.next()\n",
        "\n",
        "## 檢視資料\n",
        "# show images\n",
        "imshow(torchvision.utils.make_grid(images[:4]))\n",
        "# # print labels\n",
        "print(' '.join('%5d' % labels[j] for j in range(4)))"
      ],
      "execution_count": null,
      "outputs": [
        {
          "output_type": "stream",
          "text": [
            "Clipping input data to the valid range for imshow with RGB data ([0..1] for floats or [0..255] for integers).\n"
          ],
          "name": "stderr"
        },
        {
          "output_type": "stream",
          "text": [
            "    0     0     1     1\n"
          ],
          "name": "stdout"
        },
        {
          "output_type": "display_data",
          "data": {
            "image/png": "[encoded data removed]",
            "text/plain": [
              "<Figure size 432x288 with 1 Axes>"
            ]
          },
          "metadata": {
            "tags": [],
            "needs_background": "light"
          }
        }
      ]
    },
    {
      "cell_type": "markdown",
      "metadata": {
        "id": "Y0WrEW9DtFWb"
      },
      "source": [
        "https://towardsdatascience.com/how-to-train-an-image-classifier-in-pytorch-and-use-it-to-perform-basic-inference-on-single-images-99465a1e9bf5\n",
        "\n",
        "have to freeze the pre-trained layers, so we don’t backprop through them during training."
      ]
    },
    {
      "cell_type": "code",
      "metadata": {
        "id": "igNXO2SUS-bG",
        "outputId": "bb8e645d-1e7b-4a95-f29a-25e38131dd0c",
        "colab": {
          "base_uri": "https://localhost:8080/",
          "height": 70
        }
      },
      "source": [
        "device = torch.device(\"cuda:0\" if torch.cuda.is_available() else \"cpu\")\n",
        "# Send the model to GPU\n",
        "model = model.to(device)\n",
        "\n",
        "# Gather the parameters to be optimized/updated in this run. If we are\n",
        "#  finetuning we will be updating all parameters. However, if we are\n",
        "#  doing feature extract method, we will only update the parameters\n",
        "#  that we have just initialized, i.e. the parameters with requires_grad\n",
        "#  is True.\n",
        "\n",
        "params_to_update = model.parameters()\n",
        "print(\"Params to learn:\")\n",
        "if feature_extract:\n",
        "    params_to_update = []\n",
        "    for name,param in model.named_parameters():\n",
        "        if param.requires_grad == True:\n",
        "            params_to_update.append(param)\n",
        "            print(\"\\t\",name)\n",
        "else:\n",
        "    for name,param in model.named_parameters():\n",
        "        if param.requires_grad == True:\n",
        "            print(\"\\t\",name)\n",
        "\n",
        "# Observe that all parameters are being optimized\n",
        "optimizer = optim.SGD(params_to_update, lr=0.001, momentum=0.9)\n",
        "\n",
        "criterion = nn.CrossEntropyLoss()"
      ],
      "execution_count": null,
      "outputs": [
        {
          "output_type": "stream",
          "text": [
            "Params to learn:\n",
            "\t fc.weight\n",
            "\t fc.bias\n"
          ],
          "name": "stdout"
        }
      ]
    },
    {
      "cell_type": "code",
      "metadata": {
        "id": "XOGkwJ5C7ScO",
        "outputId": "b3e19d01-6fbf-434d-aa48-bf3f810de597",
        "colab": {
          "base_uri": "https://localhost:8080/",
          "height": 1000
        }
      },
      "source": [
        "dataloaders = {\n",
        "    'train': train_loader,\n",
        "    'val': val_loader\n",
        "}\n",
        "\n",
        "model, history = train_model(model, dataloaders, criterion, optimizer, num_epochs=num_epochs, is_inception=False)\n"
      ],
      "execution_count": null,
      "outputs": [
        {
          "output_type": "stream",
          "text": [
            "Epoch 0/19\n",
            "----------\n",
            "train Loss: 0.8706 Acc: 0.6933\n",
            "val Loss: 0.4628 Acc: 0.9046\n",
            "\n",
            "Epoch 1/19\n",
            "----------\n",
            "train Loss: 0.5958 Acc: 0.8062\n",
            "val Loss: 0.3143 Acc: 0.9178\n",
            "\n",
            "Epoch 2/19\n",
            "----------\n",
            "train Loss: 0.5236 Acc: 0.8350\n",
            "val Loss: 0.2911 Acc: 0.9309\n",
            "\n",
            "Epoch 3/19\n",
            "----------\n",
            "train Loss: 0.5179 Acc: 0.8246\n",
            "val Loss: 0.3050 Acc: 0.9178\n",
            "\n",
            "Epoch 4/19\n",
            "----------\n",
            "train Loss: 0.4514 Acc: 0.8413\n",
            "val Loss: 0.2901 Acc: 0.9145\n",
            "\n",
            "Epoch 5/19\n",
            "----------\n",
            "train Loss: 0.4576 Acc: 0.8413\n",
            "val Loss: 0.2423 Acc: 0.9178\n",
            "\n",
            "Epoch 6/19\n",
            "----------\n",
            "train Loss: 0.4108 Acc: 0.8620\n",
            "val Loss: 0.2653 Acc: 0.9079\n",
            "\n",
            "Epoch 7/19\n",
            "----------\n",
            "train Loss: 0.3900 Acc: 0.8710\n",
            "val Loss: 0.2612 Acc: 0.9309\n",
            "\n",
            "Epoch 8/19\n",
            "----------\n",
            "train Loss: 0.4202 Acc: 0.8530\n",
            "val Loss: 0.2338 Acc: 0.9243\n",
            "\n",
            "Epoch 9/19\n",
            "----------\n",
            "train Loss: 0.3825 Acc: 0.8701\n",
            "val Loss: 0.2649 Acc: 0.9112\n",
            "\n",
            "Epoch 10/19\n",
            "----------\n",
            "train Loss: 0.3822 Acc: 0.8656\n",
            "val Loss: 0.2222 Acc: 0.9276\n",
            "\n",
            "Epoch 11/19\n",
            "----------\n",
            "train Loss: 0.3753 Acc: 0.8665\n",
            "val Loss: 0.2260 Acc: 0.9342\n",
            "\n",
            "Epoch 12/19\n",
            "----------\n",
            "train Loss: 0.3774 Acc: 0.8710\n",
            "val Loss: 0.1954 Acc: 0.9342\n",
            "\n",
            "Epoch 13/19\n",
            "----------\n",
            "train Loss: 0.3864 Acc: 0.8656\n",
            "val Loss: 0.2185 Acc: 0.9243\n",
            "\n",
            "Epoch 14/19\n",
            "----------\n",
            "train Loss: 0.3712 Acc: 0.8705\n",
            "val Loss: 0.2401 Acc: 0.9178\n",
            "\n",
            "Epoch 15/19\n",
            "----------\n",
            "train Loss: 0.3401 Acc: 0.8822\n",
            "val Loss: 0.2387 Acc: 0.9243\n",
            "\n",
            "Epoch 16/19\n",
            "----------\n",
            "train Loss: 0.3515 Acc: 0.8790\n",
            "val Loss: 0.1926 Acc: 0.9342\n",
            "\n",
            "Epoch 17/19\n",
            "----------\n",
            "train Loss: 0.3481 Acc: 0.8790\n",
            "val Loss: 0.1951 Acc: 0.9342\n",
            "\n",
            "Epoch 18/19\n",
            "----------\n",
            "train Loss: 0.3710 Acc: 0.8768\n",
            "val Loss: 0.1842 Acc: 0.9342\n",
            "\n",
            "Epoch 19/19\n",
            "----------\n",
            "train Loss: 0.3353 Acc: 0.8916\n",
            "val Loss: 0.2101 Acc: 0.9375\n",
            "\n",
            "Training complete in 5m 2s\n",
            "Best val Acc: 0.937500\n"
          ],
          "name": "stdout"
        }
      ]
    },
    {
      "cell_type": "code",
      "metadata": {
        "id": "YEU-eFcM2bGs"
      },
      "source": [
        "output_path = '{}/{}'.format(cloud_path, 'aoi_{}_20200107.pth'.format(model_name))\n",
        "# torch.save colab 會有 error output, 不需要理會\n",
        "torch.save(model, output_path)"
      ],
      "execution_count": null,
      "outputs": []
    },
    {
      "cell_type": "code",
      "metadata": {
        "id": "eHcxkWXv4RjI",
        "outputId": "d5c4f25f-6180-4371-f2f7-7dbd406c0388",
        "colab": {
          "base_uri": "https://localhost:8080/",
          "height": 281
        }
      },
      "source": [
        "plt.title(model_name)\n",
        "plt.plot(history['loss_train'], label='Training Loss')\n",
        "plt.plot(history['loss_val'], label='Validation Loss')\n",
        "# plt.plot(test_losses, label='Validation loss')\n",
        "plt.legend(frameon=False)\n",
        "plt.show()"
      ],
      "execution_count": null,
      "outputs": [
        {
          "output_type": "display_data",
          "data": {
            "image/png": "[encoded data removed]",
            "text/plain": [
              "<Figure size 432x288 with 1 Axes>"
            ]
          },
          "metadata": {
            "tags": [],
            "needs_background": "light"
          }
        }
      ]
    },
    {
      "cell_type": "markdown",
      "metadata": {
        "id": "IljciXxYzQzm"
      },
      "source": [
        "## 驗證 Testing Set"
      ]
    },
    {
      "cell_type": "code",
      "metadata": {
        "id": "nqXRneJi5cLN",
        "outputId": "020998b5-1a9b-4bc7-b30d-6ba4d5f89094",
        "colab": {
          "base_uri": "https://localhost:8080/",
          "height": 195
        }
      },
      "source": [
        "df_test = pd.read_csv('{}/{}'.format(to_path, 'test.csv'))\n",
        "df_test['Label'] = 0\n",
        "\n",
        "df_test.head()"
      ],
      "execution_count": null,
      "outputs": [
        {
          "output_type": "execute_result",
          "data": {
            "text/html": [
              "<div>\n",
              "<style scoped>\n",
              "    .dataframe tbody tr th:only-of-type {\n",
              "        vertical-align: middle;\n",
              "    }\n",
              "\n",
              "    .dataframe tbody tr th {\n",
              "        vertical-align: top;\n",
              "    }\n",
              "\n",
              "    .dataframe thead th {\n",
              "        text-align: right;\n",
              "    }\n",
              "</style>\n",
              "<table border=\"1\" class=\"dataframe\">\n",
              "  <thead>\n",
              "    <tr style=\"text-align: right;\">\n",
              "      <th></th>\n",
              "      <th>ID</th>\n",
              "      <th>Label</th>\n",
              "    </tr>\n",
              "  </thead>\n",
              "  <tbody>\n",
              "    <tr>\n",
              "      <th>0</th>\n",
              "      <td>test_00000.png</td>\n",
              "      <td>0</td>\n",
              "    </tr>\n",
              "    <tr>\n",
              "      <th>1</th>\n",
              "      <td>test_00001.png</td>\n",
              "      <td>0</td>\n",
              "    </tr>\n",
              "    <tr>\n",
              "      <th>2</th>\n",
              "      <td>test_00002.png</td>\n",
              "      <td>0</td>\n",
              "    </tr>\n",
              "    <tr>\n",
              "      <th>3</th>\n",
              "      <td>test_00003.png</td>\n",
              "      <td>0</td>\n",
              "    </tr>\n",
              "    <tr>\n",
              "      <th>4</th>\n",
              "      <td>test_00004.png</td>\n",
              "      <td>0</td>\n",
              "    </tr>\n",
              "  </tbody>\n",
              "</table>\n",
              "</div>"
            ],
            "text/plain": [
              "               ID  Label\n",
              "0  test_00000.png      0\n",
              "1  test_00001.png      0\n",
              "2  test_00002.png      0\n",
              "3  test_00003.png      0\n",
              "4  test_00004.png      0"
            ]
          },
          "metadata": {
            "tags": []
          },
          "execution_count": 24
        }
      ]
    },
    {
      "cell_type": "code",
      "metadata": {
        "id": "VUTmiWLI0Feo"
      },
      "source": [
        "# load model\n",
        "device = torch.device(\"cuda:0\" if torch.cuda.is_available() else \"cpu\")\n",
        "output_path = '{}/{}'.format(to_path, output_path)\n",
        "model = torch.load(output_path)\n",
        "model.eval()"
      ],
      "execution_count": null,
      "outputs": []
    },
    {
      "cell_type": "code",
      "metadata": {
        "id": "OgpdFXDGzgF5",
        "outputId": "f7cf398e-10c4-4d6a-c2a8-6924303609d0",
        "colab": {
          "base_uri": "https://localhost:8080/",
          "height": 171
        }
      },
      "source": [
        "# create train/val datasets\n",
        "from PIL import ImageFile\n",
        "ImageFile.LOAD_TRUNCATED_IMAGES = True\n",
        "\n",
        "test_root = '{}/{}'.format(to_path, 'test_images')\n",
        "\n",
        "\n",
        "testset = aoiDataset(root=test_root, \n",
        "                      X=np.array(df_test['ID']), y=np.array(df_test['Label']),\n",
        "                      transform=data_transforms['val'])\n",
        "\n",
        "testloader = DataLoader(dataset=testset,\n",
        "                        batch_size=16, \n",
        "                        shuffle=False,\n",
        "                        num_workers=4)\n",
        "\n",
        "\n",
        "dataiter = iter(testloader)\n",
        "images, labels = dataiter.next()\n",
        "\n",
        "# print images\n",
        "imshow(torchvision.utils.make_grid(images[:4]))"
      ],
      "execution_count": null,
      "outputs": [
        {
          "output_type": "stream",
          "text": [
            "Total data split: 10142\n"
          ],
          "name": "stdout"
        },
        {
          "output_type": "stream",
          "text": [
            "Clipping input data to the valid range for imshow with RGB data ([0..1] for floats or [0..255] for integers).\n"
          ],
          "name": "stderr"
        },
        {
          "output_type": "display_data",
          "data": {
            "image/png": "[encoded data removed]",
            "text/plain": [
              "<Figure size 432x288 with 1 Axes>"
            ]
          },
          "metadata": {
            "tags": [],
            "needs_background": "light"
          }
        }
      ]
    },
    {
      "cell_type": "code",
      "metadata": {
        "id": "rLF0BgaD50NQ"
      },
      "source": [
        "test_output = []\n",
        "\n",
        "for inputs, labels in testloader:\n",
        "    outputs = model(inputs.to(device)) \n",
        "    _, predicted = torch.max(outputs, 1)\n",
        "    test_output += predicted.tolist()"
      ],
      "execution_count": null,
      "outputs": []
    },
    {
      "cell_type": "code",
      "metadata": {
        "id": "P2494Xwt_EV9",
        "outputId": "e0094fba-c494-4355-e34a-897e4255d02b",
        "colab": {
          "base_uri": "https://localhost:8080/",
          "height": 343
        }
      },
      "source": [
        "df_output = df_test.copy()\n",
        "df_output['Label'] = test_output\n",
        "df_output.head(10)"
      ],
      "execution_count": null,
      "outputs": [
        {
          "output_type": "execute_result",
          "data": {
            "text/html": [
              "<div>\n",
              "<style scoped>\n",
              "    .dataframe tbody tr th:only-of-type {\n",
              "        vertical-align: middle;\n",
              "    }\n",
              "\n",
              "    .dataframe tbody tr th {\n",
              "        vertical-align: top;\n",
              "    }\n",
              "\n",
              "    .dataframe thead th {\n",
              "        text-align: right;\n",
              "    }\n",
              "</style>\n",
              "<table border=\"1\" class=\"dataframe\">\n",
              "  <thead>\n",
              "    <tr style=\"text-align: right;\">\n",
              "      <th></th>\n",
              "      <th>ID</th>\n",
              "      <th>Label</th>\n",
              "    </tr>\n",
              "  </thead>\n",
              "  <tbody>\n",
              "    <tr>\n",
              "      <th>0</th>\n",
              "      <td>test_00000.png</td>\n",
              "      <td>1</td>\n",
              "    </tr>\n",
              "    <tr>\n",
              "      <th>1</th>\n",
              "      <td>test_00001.png</td>\n",
              "      <td>2</td>\n",
              "    </tr>\n",
              "    <tr>\n",
              "      <th>2</th>\n",
              "      <td>test_00002.png</td>\n",
              "      <td>5</td>\n",
              "    </tr>\n",
              "    <tr>\n",
              "      <th>3</th>\n",
              "      <td>test_00003.png</td>\n",
              "      <td>0</td>\n",
              "    </tr>\n",
              "    <tr>\n",
              "      <th>4</th>\n",
              "      <td>test_00004.png</td>\n",
              "      <td>2</td>\n",
              "    </tr>\n",
              "    <tr>\n",
              "      <th>5</th>\n",
              "      <td>test_00005.png</td>\n",
              "      <td>1</td>\n",
              "    </tr>\n",
              "    <tr>\n",
              "      <th>6</th>\n",
              "      <td>test_00006.png</td>\n",
              "      <td>5</td>\n",
              "    </tr>\n",
              "    <tr>\n",
              "      <th>7</th>\n",
              "      <td>test_00007.png</td>\n",
              "      <td>5</td>\n",
              "    </tr>\n",
              "    <tr>\n",
              "      <th>8</th>\n",
              "      <td>test_00008.png</td>\n",
              "      <td>0</td>\n",
              "    </tr>\n",
              "    <tr>\n",
              "      <th>9</th>\n",
              "      <td>test_00009.png</td>\n",
              "      <td>2</td>\n",
              "    </tr>\n",
              "  </tbody>\n",
              "</table>\n",
              "</div>"
            ],
            "text/plain": [
              "               ID  Label\n",
              "0  test_00000.png      1\n",
              "1  test_00001.png      2\n",
              "2  test_00002.png      5\n",
              "3  test_00003.png      0\n",
              "4  test_00004.png      2\n",
              "5  test_00005.png      1\n",
              "6  test_00006.png      5\n",
              "7  test_00007.png      5\n",
              "8  test_00008.png      0\n",
              "9  test_00009.png      2"
            ]
          },
          "metadata": {
            "tags": []
          },
          "execution_count": 27
        }
      ]
    },
    {
      "cell_type": "code",
      "metadata": {
        "id": "_y1-Nxw47G4W"
      },
      "source": [
        "df_output.to_csv( '{}/{}'.format(cloud_path, 'aoi_{}.csv'.format(model_name)), index=0)"
      ],
      "execution_count": null,
      "outputs": []
    }
  ]
}